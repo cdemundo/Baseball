{
 "cells": [
  {
   "cell_type": "code",
   "execution_count": 1,
   "metadata": {},
   "outputs": [],
   "source": [
    "import pandas as pd\n",
    "import sqlite3\n",
    "import datetime\n",
    "import database_utility\n",
    "import pybaseball"
   ]
  },
  {
   "cell_type": "code",
   "execution_count": 2,
   "metadata": {},
   "outputs": [],
   "source": [
    "sqlite_file = 'baseball_data.sqlite'\n",
    "dh = database_utility.DatabaseHelper(sqlite_file)"
   ]
  },
  {
   "cell_type": "code",
   "execution_count": 3,
   "metadata": {},
   "outputs": [],
   "source": [
    "#This will give a ValueError when using pd.read_json if the path doesn't exist\n",
    "filepath = r'C:\\Users\\Chris\\Google Drive\\Programming\\Baseball\\Web Scraping\\bbref_scraper\\bbref_scraper\\bbref.jl'"
   ]
  },
  {
   "cell_type": "code",
   "execution_count": 139,
   "metadata": {},
   "outputs": [],
   "source": [
    "batting_df, pitching_df = dh.pull_raw_bbref_data(filepath)"
   ]
  },
  {
   "cell_type": "markdown",
   "metadata": {},
   "source": [
    "<h3> Pitching Exploration </h3>"
   ]
  },
  {
   "cell_type": "markdown",
   "metadata": {},
   "source": [
    "<h4> In FanDuels, pitching is scored based on the following attributes: </h4> \n",
    " - W = 6pts\n",
    " - Quality Start = 4pts\n",
    " - ER = -3pts\n",
    " - SO = 3pts\n",
    " - IP = 3pts (1pt per out)\n",
    " \n",
    " *A quality start is defined as a starting pitcher who completes six innings and permits no more than 3 ER*"
   ]
  },
  {
   "cell_type": "markdown",
   "metadata": {},
   "source": [
    "Given what we know about the scoring, let's try to calculate what every pitcher's FanDuel score would have been.  This will be a basis for prediction eventually, but for now, we can use it to look at some descriptive statistics."
   ]
  },
  {
   "cell_type": "markdown",
   "metadata": {},
   "source": [
    "First, let's create a unique ID column based on Date, Location and Start Time.  This should account for doubleheaders as well."
   ]
  },
  {
   "cell_type": "code",
   "execution_count": 140,
   "metadata": {},
   "outputs": [],
   "source": [
    "#clean up the date column to prepare creating a unique ID\n",
    "pitching_df['Day of Week'], pitching_df['game_date'] = pitching_df['game_date'].str.split(',', 1).str\n",
    "pitching_df['game_date'] = pd.to_datetime(pitching_df['game_date'], infer_datetime_format=True)\n",
    "pitching_df['year'] = pitching_df['game_date'].map(lambda x : x.year)\n",
    "\n",
    "#clean up start time strings\n",
    "clean_times = []\n",
    "for time in pitching_df['start_time'].str.split(': '):\n",
    "    try:\n",
    "        clean_times.append(time[1].split(' L')[0])\n",
    "    except IndexError:\n",
    "        clean_times.append(\"unknown_start_time\")\n",
    "        \n",
    "pitching_df['start_time'] = clean_times"
   ]
  },
  {
   "cell_type": "markdown",
   "metadata": {},
   "source": [
    "Now the actual unique ID column"
   ]
  },
  {
   "cell_type": "code",
   "execution_count": 141,
   "metadata": {},
   "outputs": [],
   "source": [
    "id_col = pitching_df['game_date'].astype(str) + pitching_df['location'] + pitching_df['start_time'] + pitching_df['player']\n",
    "pitching_df.insert(loc=0, column='game_id', value=id_col)"
   ]
  },
  {
   "cell_type": "markdown",
   "metadata": {},
   "source": [
    "Ok so now we can set about trying to create a column that represents what the FanDuel score for that player for a given day would be.  We can group on the unique game ID and the pitcher name to get stats for each pitcher for a game."
   ]
  },
  {
   "cell_type": "markdown",
   "metadata": {},
   "source": [
    "We want to do some error checking - for example, the most earned runs a pitcher has ever given up in the modern era is 14."
   ]
  },
  {
   "cell_type": "code",
   "execution_count": null,
   "metadata": {},
   "outputs": [],
   "source": [
    "#if ER is above 15, set it equal to 0 as it's likely a mistake\n",
    "pitching_df['ER'] = pd.to_numeric(pitching_df['ER'])\n",
    "pitching_df.loc[pitching_df['ER'] > 14]['ER'] = 0\n",
    "\n",
    "#we will do the same for innings pitched - assuming it should be a max of 9, which is a complete game\n",
    "#this induces some NA's which we will drop at the end\n",
    "pitching_df['IP'] = pd.to_numeric(pitching_df['IP'], errors='coerce')\n",
    "pitching_df.loc[pitching_df['IP'] > 0]['IP'] = 0.0\n",
    "\n",
    "#same for strikeouts\n",
    "pitching_df['SO'] = pd.to_numeric(pitching_df['SO'], errors='coerce')\n",
    "\n",
    "#a win is indicated in a weird column - it's pulled from a text scrape on Baseball Reference thats in the same spot as the position for batters, which is why the column is called 'position'\n",
    "#if the string in this column contains a 'W', we can say this pitcher got a win\n",
    "\n",
    "#first convert NaNs to string so we can search using str.contains\n",
    "pitching_df['position'] = pitching_df['position'].fillna(\"NA\")\n",
    "#then set a flag it was a win\n",
    "pitching_df.loc[pitching_df['position'].str.contains('W'), 'win_recorded'] = 1\n",
    "#fill the non wins with 0\n",
    "pitching_df['win_recorded'].fillna(0)"
   ]
  },
  {
   "cell_type": "code",
   "execution_count": 153,
   "metadata": {},
   "outputs": [],
   "source": [
    "#first convert NaNs to string so we can search using str.contains\n",
    "pitching_df['position'] = pitching_df['position'].fillna(\"NA\")\n",
    "#then set a flag it was a win\n",
    "pitching_df.loc[pitching_df['position'].str.contains('W'), 'win_recorded'] = 1\n",
    "#fill the non wins with 0\n",
    "pitching_df['win_recorded'] = pitching_df['win_recorded'].fillna(0)"
   ]
  },
  {
   "cell_type": "markdown",
   "metadata": {},
   "source": [
    "To determine quality starts, we need to see if a pitcher was the starting pitcher.  The easiest way is to flag whether or not they were the first pitcher listed for a game"
   ]
  },
  {
   "cell_type": "code",
   "execution_count": null,
   "metadata": {},
   "outputs": [],
   "source": [
    "#there is probably a better way to do this but\n",
    "#first group and find the first pitcher of each game\n",
    "qual_start_df = pitching_df.groupby(['game_date', 'location', 'start_time', 'team'])['player'].first().reset_index()\n",
    "#then create a new id column we will join back to the original df on.  we want an ID for the game itself, not specific to the player\n",
    "qual_start_df['first_pitch_id'] = qual_start_df['game_date'].astype(str) + qual_start_df['location'] + qual_start_df['start_time']\n",
    "#we need to create this ID in the other df too\n",
    "pitching_df['first_pitch_id'] = pitching_df['game_date'].astype(str) + pitching_df['location'] + pitching_df['start_time']\n",
    "\n",
    "#take the subset of just the two columns we need - rename player so it doesn't duplicate\n",
    "qual_start_df = qual_start_df[['first_pitch_id', 'player']]\n",
    "qual_start_df.columns = ['first_pitch_id', 'first_pitcher']\n",
    "\n",
    "#join it back to the original df\n",
    "pitching_df = pd.merge(pitching_df, qual_start_df, on='first_pitch_id')\n",
    "\n",
    "#create a bool column to indicate if this was the starting pitcher\n",
    "pitching_df.loc[pitching_df['player'] == pitching_df['first_pitcher'], 'is_first_pitcher'] = 1\n",
    "pitching_df.loc[pitching_df['player'] != pitching_df['first_pitcher'], 'is_first_pitcher'] = 0\n",
    "\n",
    "#lets clean up the dataframe and get rid of unneeded columns\n",
    "pitching_df.drop(['first_pitcher', 'first_pitch_id'], axis=1, inplace=True)\n",
    "#clean up memory\n",
    "del qual_start_df"
   ]
  },
  {
   "cell_type": "markdown",
   "metadata": {},
   "source": [
    "Alright!  So there are some stats we can just easily aggregate to calculate the final score.  "
   ]
  },
  {
   "cell_type": "markdown",
   "metadata": {},
   "source": [
    "However, finding quality starts is slightly harderd - a game is a quality start if it was a starting pitcher, IP > 6 and ER < 3"
   ]
  },
  {
   "cell_type": "code",
   "execution_count": null,
   "metadata": {},
   "outputs": [],
   "source": [
    "#find the quality starts using boolean filters\n",
    "qual_start_df = pitching_df[(pitching_df['ER'] <= 3) & (pitching_df['is_first_pitcher'] == 1) & (pitching_df['IP'] >= 6)]\n",
    "qual_start_df['quality_start'] = 1\n",
    "#take only the columns we need\n",
    "qual_start_df = qual_start_df[['game_id', 'quality_start']]\n",
    "\n",
    "#merge back in to the original df, left join to keep all the original rows\n",
    "pitching_df = pd.merge(pitching_df, qual_start_df, on='game_id', how='left')\n",
    "pitching_df['quality_start'] = pitching_df['quality_start'].fillna(0)"
   ]
  },
  {
   "cell_type": "markdown",
   "metadata": {},
   "source": [
    "Ok, now lets go ahead and get the other stats!"
   ]
  },
  {
   "cell_type": "code",
   "execution_count": 174,
   "metadata": {},
   "outputs": [],
   "source": [
    "stats_df = pitching_df.groupby(['game_id', 'team', 'player']).agg({'IP' : 'max', \\\n",
    "                                                                   'ER' : 'max', \\\n",
    "                                                                   'SO' : 'max', \\\n",
    "                                                                   'win_recorded' : 'max', \\\n",
    "                                                                  'quality_start' : 'max' \\\n",
    "                                                                  }).reset_index()[['game_id', 'IP', 'ER', 'SO', 'win_recorded', 'quality_start']]"
   ]
  },
  {
   "cell_type": "markdown",
   "metadata": {},
   "source": [
    "We can write a function that can be applied to the dataframe to calculate what the FanDuel score for that pitcher would have been in the game!"
   ]
  },
  {
   "cell_type": "code",
   "execution_count": 178,
   "metadata": {},
   "outputs": [],
   "source": [
    "def fan_duel_pitching_score(row):\n",
    "    #IP are worth 3 points per completed inning\n",
    "    \n",
    "    #so if ip is 4.2, this will split and do:\n",
    "    #4*3 + 2 = 14 points\n",
    "    ip = str(row['IP']).split('.')\n",
    "    #first value is completed innings\n",
    "    ip_pts = int(ip[0])*3\n",
    "    #add the fractional value which should be 0,1,2\n",
    "    ip_pts += int(ip[1])\n",
    "    \n",
    "    #SO are a straight 3 points per SO\n",
    "    so_pts = row['SO']*3\n",
    "    \n",
    "    #ER are negative 3 points per 1 ER\n",
    "    er_pts = -(row['ER']*3)\n",
    "    \n",
    "    #a win is worth 6 points\n",
    "    win_pts = row['win_recorded']*6\n",
    "    \n",
    "    #and a quality start is worth 4 points\n",
    "    qual_start_pts = row['quality_start']*4\n",
    "    \n",
    "    return ip_pts+so_pts+er_pts+win_pts+qual_start_pts"
   ]
  },
  {
   "cell_type": "markdown",
   "metadata": {},
   "source": [
    "And we can apply it to the dataframe"
   ]
  },
  {
   "cell_type": "code",
   "execution_count": null,
   "metadata": {},
   "outputs": [],
   "source": [
    "pitching_df['fd_score'] = pitching_df.apply(fan_duel_pitching_score, axis=1)"
   ]
  },
  {
   "cell_type": "markdown",
   "metadata": {},
   "source": [
    "<h3> Variability in FanDuel Scores for Pitchers </h3>"
   ]
  },
  {
   "cell_type": "markdown",
   "metadata": {},
   "source": [
    "FanDuels highly overvalues starting pitching (saves aren't given points) - so let's restrict to just starting pitchers"
   ]
  },
  {
   "cell_type": "code",
   "execution_count": 264,
   "metadata": {},
   "outputs": [
    {
     "data": {
      "text/plain": [
       "count    6264.00000\n",
       "mean       26.31242\n",
       "std        17.00575\n",
       "min       -22.00000\n",
       "25%        14.00000\n",
       "50%        27.00000\n",
       "75%        39.00000\n",
       "max        85.00000\n",
       "Name: fd_score, dtype: float64"
      ]
     },
     "execution_count": 264,
     "metadata": {},
     "output_type": "execute_result"
    }
   ],
   "source": [
    "starting_pitch_stats = pitching_df[pitching_df['is_first_pitcher'] == 1][['game_id', 'year', 'player', 'IP', 'SO', 'ER', 'win_recorded', 'quality_start', 'fd_score']]\n",
    "\n",
    "starting_pitch_stats['fd_score'].describe()"
   ]
  },
  {
   "cell_type": "code",
   "execution_count": 209,
   "metadata": {},
   "outputs": [],
   "source": [
    "import seaborn as sns"
   ]
  },
  {
   "cell_type": "code",
   "execution_count": 260,
   "metadata": {},
   "outputs": [
    {
     "name": "stderr",
     "output_type": "stream",
     "text": [
      "C:\\Users\\Chris\\Anaconda3\\envs\\si671\\lib\\site-packages\\scipy\\stats\\stats.py:1713: FutureWarning: Using a non-tuple sequence for multidimensional indexing is deprecated; use `arr[tuple(seq)]` instead of `arr[seq]`. In the future this will be interpreted as an array index, `arr[np.array(seq)]`, which will result either in an error or a different result.\n",
      "  return np.add.reduce(sorted[indexer] * weights, axis=axis) / sumval\n"
     ]
    },
    {
     "data": {
      "text/plain": [
       "<matplotlib.axes._subplots.AxesSubplot at 0x11959cb4278>"
      ]
     },
     "execution_count": 260,
     "metadata": {},
     "output_type": "execute_result"
    },
    {
     "data": {
      "image/png": "[encoded data removed]",
      "text/plain": [
       "<Figure size 432x288 with 1 Axes>"
      ]
     },
     "metadata": {},
     "output_type": "display_data"
    }
   ],
   "source": [
    "sns.distplot(starting_pitch_stats['fd_score'])"
   ]
  },
  {
   "cell_type": "code",
   "execution_count": 261,
   "metadata": {},
   "outputs": [],
   "source": [
    "var_df = starting_pitch_stats.groupby(['player', 'year']).agg({'fd_score' : ['std','sum']}).reset_index()\n",
    "var_df = var_df.fillna(0)\n",
    "var_df.columns = ['player', 'year', 'std', 'sum']"
   ]
  },
  {
   "cell_type": "code",
   "execution_count": 262,
   "metadata": {},
   "outputs": [
    {
     "name": "stderr",
     "output_type": "stream",
     "text": [
      "C:\\Users\\Chris\\Anaconda3\\envs\\si671\\lib\\site-packages\\scipy\\stats\\stats.py:1713: FutureWarning: Using a non-tuple sequence for multidimensional indexing is deprecated; use `arr[tuple(seq)]` instead of `arr[seq]`. In the future this will be interpreted as an array index, `arr[np.array(seq)]`, which will result either in an error or a different result.\n",
      "  return np.add.reduce(sorted[indexer] * weights, axis=axis) / sumval\n"
     ]
    },
    {
     "data": {
      "text/plain": [
       "<matplotlib.axes._subplots.AxesSubplot at 0x1193eaff9e8>"
      ]
     },
     "execution_count": 262,
     "metadata": {},
     "output_type": "execute_result"
    },
    {
     "data": {
      "image/png": "[encoded data removed]",
      "text/plain": [
       "<Figure size 432x288 with 1 Axes>"
      ]
     },
     "metadata": {},
     "output_type": "display_data"
    }
   ],
   "source": [
    "sns.distplot(var_df['std'])"
   ]
  },
  {
   "cell_type": "code",
   "execution_count": 263,
   "metadata": {},
   "outputs": [
    {
     "data": {
      "text/html": [
       "<div>\n",
       "<style scoped>\n",
       "    .dataframe tbody tr th:only-of-type {\n",
       "        vertical-align: middle;\n",
       "    }\n",
       "\n",
       "    .dataframe tbody tr th {\n",
       "        vertical-align: top;\n",
       "    }\n",
       "\n",
       "    .dataframe thead th {\n",
       "        text-align: right;\n",
       "    }\n",
       "</style>\n",
       "<table border=\"1\" class=\"dataframe\">\n",
       "  <thead>\n",
       "    <tr style=\"text-align: right;\">\n",
       "      <th></th>\n",
       "      <th>player</th>\n",
       "      <th>year</th>\n",
       "      <th>std</th>\n",
       "      <th>sum</th>\n",
       "    </tr>\n",
       "  </thead>\n",
       "  <tbody>\n",
       "    <tr>\n",
       "      <th>759</th>\n",
       "      <td>verlaju01</td>\n",
       "      <td>2017</td>\n",
       "      <td>11.571289</td>\n",
       "      <td>918.0</td>\n",
       "    </tr>\n",
       "    <tr>\n",
       "      <th>374</th>\n",
       "      <td>klubeco01</td>\n",
       "      <td>2016</td>\n",
       "      <td>15.246321</td>\n",
       "      <td>792.0</td>\n",
       "    </tr>\n",
       "    <tr>\n",
       "      <th>375</th>\n",
       "      <td>klubeco01</td>\n",
       "      <td>2017</td>\n",
       "      <td>20.052847</td>\n",
       "      <td>774.0</td>\n",
       "    </tr>\n",
       "    <tr>\n",
       "      <th>397</th>\n",
       "      <td>lestejo01</td>\n",
       "      <td>2016</td>\n",
       "      <td>11.304606</td>\n",
       "      <td>747.0</td>\n",
       "    </tr>\n",
       "    <tr>\n",
       "      <th>648</th>\n",
       "      <td>scherma01</td>\n",
       "      <td>2016</td>\n",
       "      <td>14.875035</td>\n",
       "      <td>692.0</td>\n",
       "    </tr>\n",
       "    <tr>\n",
       "      <th>758</th>\n",
       "      <td>verlaju01</td>\n",
       "      <td>2016</td>\n",
       "      <td>11.772850</td>\n",
       "      <td>687.0</td>\n",
       "    </tr>\n",
       "    <tr>\n",
       "      <th>760</th>\n",
       "      <td>verlaju01</td>\n",
       "      <td>2018</td>\n",
       "      <td>18.575970</td>\n",
       "      <td>676.0</td>\n",
       "    </tr>\n",
       "    <tr>\n",
       "      <th>156</th>\n",
       "      <td>degroja01</td>\n",
       "      <td>2018</td>\n",
       "      <td>9.631679</td>\n",
       "      <td>669.0</td>\n",
       "    </tr>\n",
       "    <tr>\n",
       "      <th>436</th>\n",
       "      <td>marquge01</td>\n",
       "      <td>2018</td>\n",
       "      <td>13.578425</td>\n",
       "      <td>654.0</td>\n",
       "    </tr>\n",
       "    <tr>\n",
       "      <th>656</th>\n",
       "      <td>severlu01</td>\n",
       "      <td>2017</td>\n",
       "      <td>22.304049</td>\n",
       "      <td>634.0</td>\n",
       "    </tr>\n",
       "    <tr>\n",
       "      <th>314</th>\n",
       "      <td>hendrky01</td>\n",
       "      <td>2016</td>\n",
       "      <td>14.470304</td>\n",
       "      <td>621.0</td>\n",
       "    </tr>\n",
       "    <tr>\n",
       "      <th>650</th>\n",
       "      <td>scherma01</td>\n",
       "      <td>2018</td>\n",
       "      <td>15.557173</td>\n",
       "      <td>614.0</td>\n",
       "    </tr>\n",
       "    <tr>\n",
       "      <th>41</th>\n",
       "      <td>bauertr01</td>\n",
       "      <td>2017</td>\n",
       "      <td>11.716086</td>\n",
       "      <td>613.0</td>\n",
       "    </tr>\n",
       "    <tr>\n",
       "      <th>568</th>\n",
       "      <td>porceri01</td>\n",
       "      <td>2016</td>\n",
       "      <td>9.162553</td>\n",
       "      <td>610.0</td>\n",
       "    </tr>\n",
       "    <tr>\n",
       "      <th>88</th>\n",
       "      <td>carraca01</td>\n",
       "      <td>2017</td>\n",
       "      <td>20.927994</td>\n",
       "      <td>607.0</td>\n",
       "    </tr>\n",
       "    <tr>\n",
       "      <th>89</th>\n",
       "      <td>carraca01</td>\n",
       "      <td>2018</td>\n",
       "      <td>15.705625</td>\n",
       "      <td>598.0</td>\n",
       "    </tr>\n",
       "    <tr>\n",
       "      <th>629</th>\n",
       "      <td>salech01</td>\n",
       "      <td>2017</td>\n",
       "      <td>24.828644</td>\n",
       "      <td>574.0</td>\n",
       "    </tr>\n",
       "    <tr>\n",
       "      <th>325</th>\n",
       "      <td>hillri01</td>\n",
       "      <td>2017</td>\n",
       "      <td>14.877276</td>\n",
       "      <td>568.0</td>\n",
       "    </tr>\n",
       "    <tr>\n",
       "      <th>718</th>\n",
       "      <td>tanakma01</td>\n",
       "      <td>2017</td>\n",
       "      <td>21.355829</td>\n",
       "      <td>561.0</td>\n",
       "    </tr>\n",
       "    <tr>\n",
       "      <th>514</th>\n",
       "      <td>nolaaa01</td>\n",
       "      <td>2018</td>\n",
       "      <td>13.840735</td>\n",
       "      <td>557.0</td>\n",
       "    </tr>\n",
       "    <tr>\n",
       "      <th>74</th>\n",
       "      <td>bumgama01</td>\n",
       "      <td>2016</td>\n",
       "      <td>14.953261</td>\n",
       "      <td>552.0</td>\n",
       "    </tr>\n",
       "    <tr>\n",
       "      <th>115</th>\n",
       "      <td>clevimi01</td>\n",
       "      <td>2018</td>\n",
       "      <td>9.539104</td>\n",
       "      <td>547.0</td>\n",
       "    </tr>\n",
       "    <tr>\n",
       "      <th>680</th>\n",
       "      <td>snellbl01</td>\n",
       "      <td>2018</td>\n",
       "      <td>12.006311</td>\n",
       "      <td>542.0</td>\n",
       "    </tr>\n",
       "    <tr>\n",
       "      <th>628</th>\n",
       "      <td>salech01</td>\n",
       "      <td>2016</td>\n",
       "      <td>17.361909</td>\n",
       "      <td>540.0</td>\n",
       "    </tr>\n",
       "    <tr>\n",
       "      <th>315</th>\n",
       "      <td>hendrky01</td>\n",
       "      <td>2017</td>\n",
       "      <td>10.039090</td>\n",
       "      <td>538.0</td>\n",
       "    </tr>\n",
       "  </tbody>\n",
       "</table>\n",
       "</div>"
      ],
      "text/plain": [
       "        player  year        std    sum\n",
       "759  verlaju01  2017  11.571289  918.0\n",
       "374  klubeco01  2016  15.246321  792.0\n",
       "375  klubeco01  2017  20.052847  774.0\n",
       "397  lestejo01  2016  11.304606  747.0\n",
       "648  scherma01  2016  14.875035  692.0\n",
       "758  verlaju01  2016  11.772850  687.0\n",
       "760  verlaju01  2018  18.575970  676.0\n",
       "156  degroja01  2018   9.631679  669.0\n",
       "436  marquge01  2018  13.578425  654.0\n",
       "656  severlu01  2017  22.304049  634.0\n",
       "314  hendrky01  2016  14.470304  621.0\n",
       "650  scherma01  2018  15.557173  614.0\n",
       "41   bauertr01  2017  11.716086  613.0\n",
       "568  porceri01  2016   9.162553  610.0\n",
       "88   carraca01  2017  20.927994  607.0\n",
       "89   carraca01  2018  15.705625  598.0\n",
       "629   salech01  2017  24.828644  574.0\n",
       "325   hillri01  2017  14.877276  568.0\n",
       "718  tanakma01  2017  21.355829  561.0\n",
       "514   nolaaa01  2018  13.840735  557.0\n",
       "74   bumgama01  2016  14.953261  552.0\n",
       "115  clevimi01  2018   9.539104  547.0\n",
       "680  snellbl01  2018  12.006311  542.0\n",
       "628   salech01  2016  17.361909  540.0\n",
       "315  hendrky01  2017  10.039090  538.0"
      ]
     },
     "execution_count": 263,
     "metadata": {},
     "output_type": "execute_result"
    }
   ],
   "source": [
    "var_df.sort_values(by=['sum', 'std'], ascending=False)[0:25]"
   ]
  },
  {
   "cell_type": "markdown",
   "metadata": {},
   "source": [
    "<h3> Example of pulling statcast data </h3>"
   ]
  },
  {
   "cell_type": "code",
   "execution_count": 3,
   "metadata": {},
   "outputs": [
    {
     "name": "stdout",
     "output_type": "stream",
     "text": [
      "Wall time: 10 s\n"
     ]
    }
   ],
   "source": [
    "%%time\n",
    "raw_data = dh.pull_raw_data(start_date='2018-05-01', end_date='2018-05-30')\n",
    "player_df = dh.load_player_lookup_df()"
   ]
  },
  {
   "cell_type": "code",
   "execution_count": 37,
   "metadata": {},
   "outputs": [
    {
     "data": {
      "text/html": [
       "<div>\n",
       "<style scoped>\n",
       "    .dataframe tbody tr th:only-of-type {\n",
       "        vertical-align: middle;\n",
       "    }\n",
       "\n",
       "    .dataframe tbody tr th {\n",
       "        vertical-align: top;\n",
       "    }\n",
       "\n",
       "    .dataframe thead th {\n",
       "        text-align: right;\n",
       "    }\n",
       "</style>\n",
       "<table border=\"1\" class=\"dataframe\">\n",
       "  <thead>\n",
       "    <tr style=\"text-align: right;\">\n",
       "      <th></th>\n",
       "      <th>name_last</th>\n",
       "      <th>name_first</th>\n",
       "      <th>key_mlbam</th>\n",
       "      <th>key_retro</th>\n",
       "      <th>key_bbref</th>\n",
       "      <th>key_fangraphs</th>\n",
       "      <th>mlb_played_first</th>\n",
       "      <th>mlb_played_last</th>\n",
       "    </tr>\n",
       "  </thead>\n",
       "  <tbody>\n",
       "    <tr>\n",
       "      <th>2185</th>\n",
       "      <td>yates</td>\n",
       "      <td>kirby</td>\n",
       "      <td>489446</td>\n",
       "      <td>yatek001</td>\n",
       "      <td>yateski01</td>\n",
       "      <td>9073</td>\n",
       "      <td>2014.0</td>\n",
       "      <td>2018.0</td>\n",
       "    </tr>\n",
       "  </tbody>\n",
       "</table>\n",
       "</div>"
      ],
      "text/plain": [
       "     name_last name_first  key_mlbam key_retro  key_bbref  key_fangraphs  \\\n",
       "2185     yates      kirby     489446  yatek001  yateski01           9073   \n",
       "\n",
       "      mlb_played_first  mlb_played_last  \n",
       "2185            2014.0           2018.0  "
      ]
     },
     "execution_count": 37,
     "metadata": {},
     "output_type": "execute_result"
    }
   ],
   "source": [
    "player_df[player_df['key_bbref'] == 'yateski01']"
   ]
  }
 ],
 "metadata": {
  "kernelspec": {
   "display_name": "Python 3",
   "language": "python",
   "name": "python3"
  },
  "language_info": {
   "codemirror_mode": {
    "name": "ipython",
    "version": 3
   },
   "file_extension": ".py",
   "mimetype": "text/x-python",
   "name": "python",
   "nbconvert_exporter": "python",
   "pygments_lexer": "ipython3",
   "version": "3.6.6"
  }
 },
 "nbformat": 4,
 "nbformat_minor": 2
}
