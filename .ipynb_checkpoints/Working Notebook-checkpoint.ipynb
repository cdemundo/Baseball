{
 "cells": [
  {
   "cell_type": "code",
   "execution_count": 2,
   "metadata": {},
   "outputs": [],
   "source": [
    "import pandas as pd"
   ]
  },
  {
   "cell_type": "code",
   "execution_count": null,
   "metadata": {},
   "outputs": [],
   "source": [
    "data = {'Platoon': ['A','A','A','A','A','A','B','B','B','B','B','C','C','C','C','C'],\n",
    "        'Date' : [1,2,3,4,5,6,1,2,3,4,5,1,2,3,4,5],\n",
    "       'Casualties': [1,4,5,7,5,5,6,1,4,5,6,7,4,6,4,6]}\n",
    "df = pd.DataFrame(data)\n",
    "df"
   ]
  },
  {
   "cell_type": "code",
   "execution_count": 23,
   "metadata": {},
   "outputs": [
    {
     "data": {
      "text/plain": [
       "0     1.000000\n",
       "1     1.000000\n",
       "2     2.500000\n",
       "3     3.333333\n",
       "4     4.250000\n",
       "5     4.400000\n",
       "6     6.000000\n",
       "7     6.000000\n",
       "8     3.500000\n",
       "9     3.666667\n",
       "10    4.000000\n",
       "11    7.000000\n",
       "12    7.000000\n",
       "13    5.500000\n",
       "14    5.666667\n",
       "15    5.250000\n",
       "Name: Casualties, dtype: float64"
      ]
     },
     "execution_count": 23,
     "metadata": {},
     "output_type": "execute_result"
    }
   ],
   "source": [
    "df.groupby(['Platoon'])['Casualties'].apply(lambda x: x.rolling(5, 1).mean().shift().bfill())"
   ]
  },
  {
   "cell_type": "markdown",
   "metadata": {},
   "source": [
    "Using this notebook for working changes before putting them in a python file"
   ]
  },
  {
   "cell_type": "code",
   "execution_count": 1,
   "metadata": {},
   "outputs": [],
   "source": [
    "import database_utility\n",
    "import baseball_models\n",
    "import pandas as pd"
   ]
  },
  {
   "cell_type": "code",
   "execution_count": 2,
   "metadata": {},
   "outputs": [],
   "source": [
    "sqlite_file = 'baseball_data.sqlite'\n",
    "dh = database_utility.DatabaseHelper(sqlite_file)\n",
    "#This will give a ValueError when using pd.read_json if the path doesn't exist\n",
    "filepath = r'C:\\Users\\Chris\\Google Drive\\Programming\\Baseball\\Web Scraping\\bbref_scraper\\bbref_scraper\\bbref.jl'"
   ]
  },
  {
   "cell_type": "code",
   "execution_count": 3,
   "metadata": {},
   "outputs": [
    {
     "name": "stderr",
     "output_type": "stream",
     "text": [
      "C:\\Users\\Chris\\Google Drive\\Programming\\Baseball\\database_utility.py:181: SettingWithCopyWarning: \n",
      "A value is trying to be set on a copy of a slice from a DataFrame.\n",
      "Try using .loc[row_indexer,col_indexer] = value instead\n",
      "\n",
      "See the caveats in the documentation: http://pandas.pydata.org/pandas-docs/stable/indexing.html#indexing-view-versus-copy\n",
      "  qual_start_df['quality_start'] = 1\n"
     ]
    }
   ],
   "source": [
    "pitching_df = dh.calc_pitching_fd_score(filepath)"
   ]
  },
  {
   "cell_type": "code",
   "execution_count": 6,
   "metadata": {},
   "outputs": [],
   "source": [
    "selector = baseball_models.BaseballModelSelection()\n",
    "X, y, tscv = selector.train_test_split(pitching_df, num_splits=2)"
   ]
  },
  {
   "cell_type": "code",
   "execution_count": 7,
   "metadata": {},
   "outputs": [
    {
     "data": {
      "text/plain": [
       "<generator object TimeSeriesSplit.split at 0x000002E9108A0830>"
      ]
     },
     "execution_count": 7,
     "metadata": {},
     "output_type": "execute_result"
    }
   ],
   "source": [
    "tscv.split(X)"
   ]
  },
  {
   "cell_type": "code",
   "execution_count": 8,
   "metadata": {},
   "outputs": [
    {
     "name": "stdout",
     "output_type": "stream",
     "text": [
      "TRAIN: [   0    1    2 ... 1526 1527 1528] TEST: [1529 1530 1531 ... 3053 3054 3055]\n",
      "TRAIN: [   0    1    2 ... 3053 3054 3055] TEST: [3056 3057 3058 ... 4580 4581 4582]\n"
     ]
    }
   ],
   "source": [
    "for train_index, test_index in tscv.split(X):\n",
    "    print(\"TRAIN:\", train_index, \"TEST:\", test_index)"
   ]
  },
  {
   "cell_type": "code",
   "execution_count": 66,
   "metadata": {},
   "outputs": [],
   "source": [
    "X['fd_score'] = y\n",
    "\n",
    "#X['avg']  = X.groupby(['player', 'game_date', 'game_id'])['fd_score']"
   ]
  },
  {
   "cell_type": "code",
   "execution_count": 74,
   "metadata": {},
   "outputs": [],
   "source": [
    "game_to_predict = '2017-08-24'\n",
    "player = 'alberma01'"
   ]
  },
  {
   "cell_type": "code",
   "execution_count": 8,
   "metadata": {},
   "outputs": [
    {
     "ename": "NameError",
     "evalue": "name 'mov_df' is not defined",
     "output_type": "error",
     "traceback": [
      "\u001b[1;31m---------------------------------------------------------------------------\u001b[0m",
      "\u001b[1;31mNameError\u001b[0m                                 Traceback (most recent call last)",
      "\u001b[1;32m<ipython-input-8-d19a57c590f7>\u001b[0m in \u001b[0;36m<module>\u001b[1;34m()\u001b[0m\n\u001b[1;32m----> 1\u001b[1;33m \u001b[0mfiltered_df\u001b[0m \u001b[1;33m=\u001b[0m \u001b[0mmov_df\u001b[0m\u001b[1;33m[\u001b[0m\u001b[1;33m(\u001b[0m\u001b[0mmov_df\u001b[0m\u001b[1;33m[\u001b[0m\u001b[1;34m'player'\u001b[0m\u001b[1;33m]\u001b[0m \u001b[1;33m==\u001b[0m \u001b[0mplayer\u001b[0m\u001b[1;33m)\u001b[0m \u001b[1;33m&\u001b[0m \u001b[1;33m(\u001b[0m\u001b[0mmov_df\u001b[0m\u001b[1;33m[\u001b[0m\u001b[1;34m'game_date'\u001b[0m\u001b[1;33m]\u001b[0m \u001b[1;33m<\u001b[0m \u001b[0mgame_to_predict\u001b[0m\u001b[1;33m)\u001b[0m\u001b[1;33m]\u001b[0m\u001b[1;33m\u001b[0m\u001b[0m\n\u001b[0m\u001b[0;32m      2\u001b[0m \u001b[1;33m\u001b[0m\u001b[0m\n\u001b[0;32m      3\u001b[0m \u001b[0mfiltered_df\u001b[0m\u001b[1;33m.\u001b[0m\u001b[0mtail\u001b[0m\u001b[1;33m(\u001b[0m\u001b[1;36m1\u001b[0m\u001b[1;33m)\u001b[0m\u001b[1;33m[\u001b[0m\u001b[1;34m'moving_avg'\u001b[0m\u001b[1;33m]\u001b[0m\u001b[1;33m\u001b[0m\u001b[0m\n",
      "\u001b[1;31mNameError\u001b[0m: name 'mov_df' is not defined"
     ]
    }
   ],
   "source": [
    "filtered_df = mov_df[(mov_df['player'] == player) & (mov_df['game_date'] < game_to_predict)]\n",
    "\n",
    "filtered_df.tail(1)['moving_avg']"
   ]
  },
  {
   "cell_type": "code",
   "execution_count": 4,
   "metadata": {},
   "outputs": [],
   "source": [
    "selector = baseball_models.BaseballModelSelection()\n",
    "mov_avg = baseball_models.MovingAverageModel()\n",
    "\n",
    "X, y, tscv = selector.train_test_split(pitching_df, num_splits = 2)\n",
    "\n",
    "X_train = X[X['game_date'] <= '2018-05-31']\n",
    "y_train = y.iloc[:len(X_train)]\n",
    "\n",
    "X_test = X[X['game_date'] > '2018-05-31']\n",
    "y_test = y.iloc[len(X_train):]\n",
    "\n",
    "#i = 0\n",
    "#for train_index, test_index in tscv.split(X):\n",
    "    #if i < 1:\n",
    "        #X_train, X_test = X.iloc[train_index], X.iloc[test_index]\n",
    "        #y_train, y_test = y.iloc[train_index], y.iloc[test_index]\n",
    "        #i += 1"
   ]
  },
  {
   "cell_type": "code",
   "execution_count": null,
   "metadata": {},
   "outputs": [],
   "source": [
    "#fit the moving average model with all the data just for fun\n",
    "mov_avg.fit(X_train, y_train)"
   ]
  },
  {
   "cell_type": "code",
   "execution_count": 6,
   "metadata": {},
   "outputs": [],
   "source": [
    "predictions = mov_avg.predict(X_test)"
   ]
  },
  {
   "cell_type": "code",
   "execution_count": 23,
   "metadata": {},
   "outputs": [],
   "source": [
    "import numpy as np\n",
    "\n",
    "errors = []\n",
    "\n",
    "for i,val in enumerate(predictions):\n",
    "    errors.append(val - y_test.iloc[i])"
   ]
  },
  {
   "cell_type": "code",
   "execution_count": null,
   "metadata": {},
   "outputs": [],
   "source": []
  }
 ],
 "metadata": {
  "kernelspec": {
   "display_name": "Python 3",
   "language": "python",
   "name": "python3"
  },
  "language_info": {
   "codemirror_mode": {
    "name": "ipython",
    "version": 3
   },
   "file_extension": ".py",
   "mimetype": "text/x-python",
   "name": "python",
   "nbconvert_exporter": "python",
   "pygments_lexer": "ipython3",
   "version": "3.6.6"
  }
 },
 "nbformat": 4,
 "nbformat_minor": 2
}
