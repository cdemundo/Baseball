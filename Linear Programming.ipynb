{
 "cells": [
  {
   "cell_type": "code",
   "execution_count": 24,
   "metadata": {},
   "outputs": [],
   "source": [
    "import urllib, json\n",
    "import pandas as pd\n",
    "import re\n",
    "from itertools import permutations\n",
    "\n",
    "from pulp import *"
   ]
  },
  {
   "cell_type": "code",
   "execution_count": 12,
   "metadata": {},
   "outputs": [],
   "source": [
    "preds = pd.read_csv('predictions_2015-09-21.csv')\n",
    "preds['displayName'] = preds['First Name'] + \" \" + preds['Last Name']\n",
    "\n",
    "preds = preds[['Position', 'displayName', 'FPPG', 'Salary']]\n",
    "preds.columns = ['position', 'displayName', 'points', 'salary']"
   ]
  },
  {
   "cell_type": "code",
   "execution_count": 31,
   "metadata": {},
   "outputs": [],
   "source": [
    "preds.loc[(preds['position'] == 'C') | (preds['position'] == '1B'), 'position'] = '1B/C'\n",
    "preds.loc[(preds['position'] == 'CF') | (preds['position'] == 'LF') | (preds['position'] == 'RF'), 'position'] = 'OF'\n",
    "preds.loc[preds['position'] == 'DH', 'position'] = 'UTIL'"
   ]
  },
  {
   "cell_type": "code",
   "execution_count": 35,
   "metadata": {},
   "outputs": [],
   "source": [
    "salaries = {}\n",
    "points = {}\n",
    "for pos in preds.position.unique():\n",
    "    available_pos = preds[preds.position == pos]\n",
    "    salary = list(available_pos[[\"displayName\",\"salary\"]].set_index(\"displayName\").to_dict().values())[0]\n",
    "    point = list(available_pos[[\"displayName\",\"points\"]].set_index(\"displayName\").to_dict().values())[0]\n",
    "    salaries[pos] = salary\n",
    "    points[pos] = point\n",
    "\n",
    "pos_num_available = {\n",
    "    \"OF\": 3,\n",
    "    \"3B\": 1,\n",
    "    \"2B\": 1,\n",
    "    \"SS\": 1,\n",
    "    \"UTIL\": 1,\n",
    "    \"1B/C\": 1,\n",
    "    \"P\": 1\n",
    "}\n",
    "\n",
    "pos_util = {\n",
    "    \"OF\": 1,\n",
    "    \"3B\": 1,\n",
    "    \"2B\": 1,\n",
    "    \"SS\": 1,\n",
    "    \"UTIL\": 1,\n",
    "    \"1B/C\": 1,\n",
    "    \"P\": 0\n",
    "}\n",
    "\n",
    "pos_util_available = 1"
   ]
  },
  {
   "cell_type": "code",
   "execution_count": 33,
   "metadata": {},
   "outputs": [],
   "source": [
    "SALARY_CAP = 50000\n",
    "_vars = {k: LpVariable.dict(k, v, cat=\"Binary\") for k, v in points.items()}"
   ]
  },
  {
   "cell_type": "code",
   "execution_count": 36,
   "metadata": {},
   "outputs": [],
   "source": [
    "prob = LpProblem(\"Fantasy\", LpMaximize)\n",
    "rewards = []\n",
    "costs = []\n",
    "position_constraints = []\n",
    "\n",
    "# Setting up the reward\n",
    "for k, v in _vars.items():\n",
    "    costs += lpSum([salaries[k][i] * _vars[k][i] for i in v])\n",
    "    rewards += lpSum([points[k][i] * _vars[k][i] for i in v])\n",
    "    prob += lpSum([_vars[k][i] for i in v]) <= pos_num_available[k]\n",
    "    prob += lpSum([pos_util[k] * _vars[k][i] for i in v]) <= pos_util_available\n",
    "    \n",
    "prob += lpSum(rewards)\n",
    "prob += lpSum(costs) <= SALARY_CAP"
   ]
  },
  {
   "cell_type": "code",
   "execution_count": 37,
   "metadata": {},
   "outputs": [
    {
     "data": {
      "text/plain": [
       "1"
      ]
     },
     "execution_count": 37,
     "metadata": {},
     "output_type": "execute_result"
    }
   ],
   "source": [
    "prob.solve()"
   ]
  },
  {
   "cell_type": "code",
   "execution_count": 53,
   "metadata": {},
   "outputs": [
    {
     "name": "stdout",
     "output_type": "stream",
     "text": [
      "Variables:\n",
      "\n",
      "1B_C_joey_votto\n",
      "2B_brandon_phillips\n",
      "3B_todd_frazier\n",
      "OF_yoenis_cespedes\n",
      "P_jonathon_niese\n",
      "SS_carlos_correa\n",
      "UTIL_edwin_encarnacion\n",
      "---------------------------------------\n",
      "Predicted Points: 57.55534648895264\n"
     ]
    }
   ],
   "source": [
    "summary(prob)"
   ]
  },
  {
   "cell_type": "code",
   "execution_count": 52,
   "metadata": {},
   "outputs": [],
   "source": [
    "def summary(prob):\n",
    "    div = '---------------------------------------'\n",
    "    print(\"Variables:\\n\")\n",
    "    score = str(prob.objective)\n",
    "    constraints = [str(const) for const in prob.constraints.values()]\n",
    "    for v in prob.variables():\n",
    "        score = score.replace(v.name, str(v.varValue))\n",
    "        constraints = [const.replace(v.name, str(v.varValue)) for const in constraints]\n",
    "        if v.varValue != 0:\n",
    "            print(v.name)\n",
    "    #print(div)\n",
    "    #print(\"Constraints:\")\n",
    "    #for constraint in constraints:\n",
    "        #constraint_pretty = \" + \".join(re.findall(\"[0-9\\.]*\\*1.0\", constraint))\n",
    "        #if constraint_pretty != \"\":\n",
    "            #print(\"{} = {}\".format(constraint_pretty, eval(constraint_pretty)))\n",
    "    print(div)\n",
    "    print(\"Predicted Points: \" + str(eval(score)))"
   ]
  }
 ],
 "metadata": {
  "kernelspec": {
   "display_name": "Python 3",
   "language": "python",
   "name": "python3"
  },
  "language_info": {
   "codemirror_mode": {
    "name": "ipython",
    "version": 3
   },
   "file_extension": ".py",
   "mimetype": "text/x-python",
   "name": "python",
   "nbconvert_exporter": "python",
   "pygments_lexer": "ipython3",
   "version": "3.6.6"
  }
 },
 "nbformat": 4,
 "nbformat_minor": 2
}
