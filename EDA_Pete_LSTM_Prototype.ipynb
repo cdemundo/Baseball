{
 "cells": [
  {
   "cell_type": "code",
   "execution_count": 2,
   "metadata": {},
   "outputs": [
    {
     "name": "stderr",
     "output_type": "stream",
     "text": [
      "Using TensorFlow backend.\n"
     ]
    }
   ],
   "source": [
    "from keras.models import Sequential\n",
    "from keras.layers import Dense\n",
    "from keras.layers import LSTM\n",
    "from math import sin\n",
    "from matplotlib import pyplot\n",
    "import numpy as np"
   ]
  },
  {
   "cell_type": "raw",
   "metadata": {},
   "source": [
    "look_back = 40\n",
    "forward_days = 10\n",
    "num_periods = 20\n",
    "\n",
    "NUM_NEURONS_FirstLayer = 128\n",
    "NUM_NEURONS_SecondLayer = 64\n",
    "EPOCHS = 220\n",
    "#Build the model\n",
    "model = Sequential()\n",
    "model.add(LSTM(NUM_NEURONS_FirstLayer,input_shape=(look_back,1), return_sequences=True))\n",
    "model.add(LSTM(NUM_NEURONS_SecondLayer,input_shape=(NUM_NEURONS_FirstLayer,1)))\n",
    "model.add(Dense(foward_days))\n",
    "model.compile(loss='mean_squared_error', optimizer='adam')\n",
    "history = model.fit(X_train,y_train,epochs=EPOCHS,validation_data=(X_validate,y_validate),shuffle=True,batch_size=2, verbose=2)"
   ]
  },
  {
   "cell_type": "code",
   "execution_count": 6,
   "metadata": {},
   "outputs": [],
   "source": [
    "# Build an LSTM network and train\n",
    "def fit_lstm(X, y, batch_size, nb_epoch, neurons):\n",
    "    X = X.reshape(X.shape[0], 1, X.shape[1]) # add in another dimension to the X data\n",
    "    y = y.reshape(y.shape[0], y.shape[1])      # but don't add it to the y, as Dense has to be 1d?\n",
    "    model = Sequential()\n",
    "    model.add(LSTM(neurons, batch_input_shape=(batch_size, X.shape[1], X.shape[2]), stateful=True))\n",
    "    model.add(Dense(y.shape[1]))\n",
    "    model.compile(loss='mean_squared_error', optimizer='adam')\n",
    "    for i in range(nb_epoch):\n",
    "        model.fit(X, y, epochs=1, batch_size=batch_size, verbose=1, shuffle=False)\n",
    "        model.reset_states()\n",
    "    return model\n",
    "\n",
    "# Configuration\n",
    "n = 5000    # total size of dataset\n",
    "SLIDING_WINDOW_LENGTH = 30\n",
    "SLIDING_WINDOW_STEP_SIZE = 1\n",
    "batch_size = 10\n",
    "test_size = 0.1 # fraction of dataset to hold back for testing\n",
    "nb_epochs = 100 # for training\n",
    "neurons = 8 # LSTM layer complexity\n",
    "\n",
    "# create dataset\n",
    "#raw_values = [sin(i/2) for i in range(n)]  # simple sine wave\n",
    "raw_values = [sin(i/2)+sin(i/6)+sin(i/36)+np.random.uniform(-1,1) for i in range(n)]  # double sine with noise\n",
    "#raw_values = [(i%4) for i in range(n)] # saw tooth\n",
    "\n",
    "all_data = np.array(raw_values).reshape(-1,1) # make into array, add anothe dimension for sci-kit compatibility\n",
    "\n",
    "# data is segmented using a sliding window mechanism\n",
    "all_data_windowed = [np.transpose(all_data[idx:idx+SLIDING_WINDOW_LENGTH]) for idx in np.arange(0,len(all_data)-SLIDING_WINDOW_LENGTH, SLIDING_WINDOW_STEP_SIZE)]\n",
    "all_data_windowed = np.concatenate(all_data_windowed, axis=0).astype(np.float32)\n"
   ]
  },
  {
   "cell_type": "code",
   "execution_count": 11,
   "metadata": {},
   "outputs": [
    {
     "name": "stdout",
     "output_type": "stream",
     "text": [
      "[[ 0.10557301  1.2923477   1.3506254  ...  0.83322984  1.3852098\n",
      "   0.92929554]\n",
      " [ 1.2923477   1.3506254   2.3074155  ...  1.3852098   0.92929554\n",
      "  -0.3250872 ]\n",
      " [ 1.3506254   2.3074155   2.533841   ...  0.92929554 -0.3250872\n",
      "  -0.36698672]\n",
      " ...\n",
      " [-0.2009044   0.11357619 -0.22731021 ...  1.0596716   0.61689776\n",
      "  -0.46692777]\n",
      " [ 0.11357619 -0.22731021 -1.3764623  ...  0.61689776 -0.46692777\n",
      "  -1.5651823 ]\n",
      " [-0.22731021 -1.3764623  -1.9500248  ... -0.46692777 -1.5651823\n",
      "  -0.50052327]]\n"
     ]
    }
   ],
   "source": [
    "print(all_data_windowed)"
   ]
  },
  {
   "cell_type": "code",
   "execution_count": null,
   "metadata": {},
   "outputs": [],
   "source": [
    "# split data into train and test-sets\n",
    "# round datasets down to a multiple of the batch size\n",
    "test_length = int(round((len(all_data_windowed) * test_size) / batch_size) * batch_size)\n",
    "train, test = all_data_windowed[:-test_length,:], all_data_windowed[-test_length:,:]\n",
    "train_length = int(np.floor(train.shape[0] / batch_size)*batch_size) \n",
    "train = train[:train_length,...]\n",
    "\n",
    "half_size = int(SLIDING_WINDOW_LENGTH/2) # split the examples half-half, to forecast the second half\n",
    "X_train, y_train = train[:,:half_size], train[:,half_size:]\n",
    "X_test, y_test = test[:,:half_size], test[:,half_size:]\n",
    "\n",
    "# fit the model\n",
    "lstm_model = fit_lstm(X_train, y_train, batch_size=batch_size, nb_epoch=nb_epochs, neurons=neurons)\n",
    "\n",
    "# forecast the entire training dataset to build up state for forecasting\n",
    "X_train_reshaped = X_train.reshape(X_train.shape[0], 1, X_train.shape[1])\n",
    "lstm_model.predict(X_train_reshaped, batch_size=batch_size)\n",
    "\n",
    "# predict from test dataset\n",
    "X_test_reshaped = X_test.reshape(X_test.shape[0], 1, X_test.shape[1])\n",
    "yhat = lstm_model.predict(X_test_reshaped, batch_size=batch_size)\n",
    "\n",
    "#%% Plot prediction vs actual\n",
    "\n",
    "x_axis_input = range(half_size)\n",
    "x_axis_output = [x_axis_input[-1]] + list(half_size+np.array(range(half_size)))\n",
    "\n",
    "fig = pyplot.figure()\n",
    "ax = fig.add_subplot(111)\n",
    "line1, = ax.plot(x_axis_input,np.zeros_like(x_axis_input), 'r-')\n",
    "line2, = ax.plot(x_axis_output,np.zeros_like(x_axis_output), 'o-')\n",
    "line3, = ax.plot(x_axis_output,np.zeros_like(x_axis_output), 'g-')\n",
    "ax.set_xlim(np.min(x_axis_input),np.max(x_axis_output))\n",
    "ax.set_ylim(-4,4)\n",
    "pyplot.legend(('Input','Actual','Predicted'),loc='upper left')\n",
    "pyplot.show()\n",
    "\n",
    "# update plot in a loop\n",
    "for idx in range(y_test.shape[0]):\n",
    "\n",
    "    sample_input = X_test[idx]\n",
    "    sample_truth = [sample_input[-1]] + list(y_test[idx]) # join lists\n",
    "    sample_predicted = [sample_input[-1]] + list(yhat[idx])\n",
    "\n",
    "    line1.set_ydata(sample_input)\n",
    "    line2.set_ydata(sample_truth)\n",
    "    line3.set_ydata(sample_predicted)\n",
    "    fig.canvas.draw()\n",
    "    fig.canvas.flush_events()\n",
    "\n",
    "    pyplot.pause(.25)"
   ]
  }
 ],
 "metadata": {
  "kernelspec": {
   "display_name": "Python 3",
   "language": "python",
   "name": "python3"
  },
  "language_info": {
   "codemirror_mode": {
    "name": "ipython",
    "version": 3
   },
   "file_extension": ".py",
   "mimetype": "text/x-python",
   "name": "python",
   "nbconvert_exporter": "python",
   "pygments_lexer": "ipython3",
   "version": "3.6.7"
  }
 },
 "nbformat": 4,
 "nbformat_minor": 2
}
