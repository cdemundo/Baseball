{
 "cells": [
  {
   "cell_type": "code",
   "execution_count": 1,
   "metadata": {
    "scrolled": true
   },
   "outputs": [],
   "source": [
    "#%matplotlib inline\n",
    "#data manip\n",
    "import pandas as pd\n",
    "import numpy as np\n",
    "\n",
    "#data viz\n",
    "#from matplotlib import pyplot as plt\n",
    "#import seaborn as sns\n",
    "\n",
    "#custom packages\n",
    "import database_utility\n",
    "import baseball_models"
   ]
  },
  {
   "cell_type": "code",
   "execution_count": 62,
   "metadata": {},
   "outputs": [],
   "source": [
    "sqlite_file = 'baseball_data.sqlite'\n",
    "dh = database_utility.DatabaseHelper(sqlite_file, 'baseball_key_joiner.csv')\n",
    "#This will give a ValueError when using pd.read_json if the path doesn't exist\n",
    "filepath = r'C:\\Users\\Chris\\Google Drive\\Programming\\Baseball\\Web Scraping\\bbref_scraper\\bbref_scraper\\bbref.jl'"
   ]
  },
  {
   "cell_type": "code",
   "execution_count": null,
   "metadata": {},
   "outputs": [],
   "source": [
    "batting_df, pitching_df = dh.load_data(preload=False, path2017=\"Web Scraping/bbref_scraper/bbref_scraper/bbref.jl\", path2018=\"Web Scraping/bbref_2018.jl\", write_csv=True, verbose=True)"
   ]
  },
  {
   "cell_type": "markdown",
   "metadata": {},
   "source": [
    "<h4>Load Raw Data</h4>\n",
    "\n",
    "The first step is to load in the raw data we want to use and trim it down to the appropriate timeframe we want"
   ]
  },
  {
   "cell_type": "code",
   "execution_count": 11,
   "metadata": {},
   "outputs": [
    {
     "name": "stdout",
     "output_type": "stream",
     "text": [
      "Trying to load raw csvs!\n",
      "CSV's Loaded!! Returning batting and pitching df\n",
      "Loading rotoguru data..\n"
     ]
    },
    {
     "name": "stderr",
     "output_type": "stream",
     "text": [
      "C:\\Users\\Chris\\Anaconda3\\envs\\data-sci\\lib\\site-packages\\IPython\\core\\interactiveshell.py:3209: DtypeWarning: Columns (14,15,45) have mixed types. Specify dtype option on import or set low_memory=False.\n",
      "  if (yield from self.run_code(code, result)):\n"
     ]
    },
    {
     "name": "stdout",
     "output_type": "stream",
     "text": [
      "Getting bbref key to merge rotoguru and bbref data\n",
      "Gathering player lookup table. This may take a moment.\n",
      "Cleaning up rotoguru dates..\n",
      "Merging bbref and rotoguru data to get FD scores\n",
      "Batting df pre merge:  (200411, 35)\n",
      "Batting df post merge:  (174446, 37)\n",
      "Pitching df pre merge:  (81140, 38)\n",
      "Pitching df post merge:  (19284, 40)\n"
     ]
    }
   ],
   "source": [
    "batting_df, pitching_df = dh.calc_fd_scores_roto()"
   ]
  },
  {
   "cell_type": "markdown",
   "metadata": {},
   "source": [
    "<h4> Feature Engineering </h4> \n",
    "\n",
    "The next step is to create (or load) any features we want from the raw data"
   ]
  },
  {
   "cell_type": "markdown",
   "metadata": {},
   "source": [
    "<h5> Create Features </h5>"
   ]
  },
  {
   "cell_type": "code",
   "execution_count": 5,
   "metadata": {},
   "outputs": [],
   "source": [
    "batting_fe = baseball_models.FeatureEngineer(df=batting_df)\n",
    "pitching_fe = baseball_models.FeatureEngineer(df=pitching_df)"
   ]
  },
  {
   "cell_type": "code",
   "execution_count": 6,
   "metadata": {},
   "outputs": [
    {
     "name": "stderr",
     "output_type": "stream",
     "text": [
      "C:\\Users\\Chris\\Anaconda3\\envs\\data-sci\\lib\\site-packages\\IPython\\core\\magic.py:187: DtypeWarning: Columns (14,15,45) have mixed types. Specify dtype option on import or set low_memory=False.\n",
      "  call = lambda f, *a, **k: f(*a, **k)\n"
     ]
    },
    {
     "name": "stdout",
     "output_type": "stream",
     "text": [
      "Getting bbref key to merge rotoguru and bbref data\n",
      "Gathering player lookup table. This may take a moment.\n",
      "Cleaning up rotoguru dates..\n",
      "Merging bbref and rotoguru data to get FD scores\n",
      "Wall time: 3min 44s\n"
     ]
    }
   ],
   "source": [
    "%%time\n",
    "pitch_life_avgs = pitching_fe.calc_lifetime_avg()\n",
    "pitch_rolling_avgs = pitching_fe.calc_rolling_avg()\n",
    "pitch_ytd_avgs = pitching_fe.calc_ytd_avgs()\n",
    "pitch_rotoguru = pitching_fe.rotoguru_features(batting=False)\n",
    "\n",
    "pitching_df['lagged_fd_score'] = pitching_df.sort_values(['player', 'game_date']).groupby(['player'])['FD_points'].shift(1)\n",
    "pitch_lagged_fd = pitching_df[['roto_game_id', 'lagged_fd_score']]"
   ]
  },
  {
   "cell_type": "code",
   "execution_count": 15,
   "metadata": {},
   "outputs": [
    {
     "name": "stderr",
     "output_type": "stream",
     "text": [
      "C:\\Users\\Chris\\Anaconda3\\envs\\data-sci\\lib\\site-packages\\IPython\\core\\magic.py:187: DtypeWarning: Columns (14,15,45) have mixed types. Specify dtype option on import or set low_memory=False.\n",
      "  call = lambda f, *a, **k: f(*a, **k)\n"
     ]
    },
    {
     "name": "stdout",
     "output_type": "stream",
     "text": [
      "Getting bbref key to merge rotoguru and bbref data\n",
      "Gathering player lookup table. This may take a moment.\n",
      "Cleaning up rotoguru dates..\n",
      "Merging bbref and rotoguru data to get FD scores\n",
      "Wall time: 5min 21s\n"
     ]
    }
   ],
   "source": [
    "%%time\n",
    "bat_life_avgs = batting_fe.calc_lifetime_avg()\n",
    "bat_rolling_avgs = batting_fe.calc_rolling_avg()\n",
    "bat_ytd_avgs = batting_fe.calc_ytd_avgs()\n",
    "bat_rotoguru = batting_fe.rotoguru_features()\n",
    "\n",
    "batting_df['lagged_fd_score'] = batting_df.sort_values(['player', 'game_date']).groupby(['player'])['FD_points'].shift(1)\n",
    "bat_lagged_fd = batting_df[['roto_game_id', 'lagged_fd_score']]\n",
    "                            "
   ]
  },
  {
   "cell_type": "code",
   "execution_count": 16,
   "metadata": {},
   "outputs": [],
   "source": [
    "bat_rotoguru.drop_duplicates(['roto_game_id'], inplace=True)"
   ]
  },
  {
   "cell_type": "code",
   "execution_count": 17,
   "metadata": {},
   "outputs": [
    {
     "name": "stdout",
     "output_type": "stream",
     "text": [
      "Trying to load raw csvs!\n",
      "CSV's Loaded!! Returning batting and pitching df\n"
     ]
    }
   ],
   "source": [
    "#THESE CALCS SHOULD GO IN A FILE\n",
    "bat_start_pitcher_matchups = pd.read_csv(\"CSV/starting_pitcher_matchups_all.csv\")\n",
    "\n",
    "#we have to bring in the bbref key for joining later\n",
    "batting_df_raw, pitching_df_raw = dh.load_data()\n",
    "bat_start_pitcher_matchups = pd.merge(bat_start_pitcher_matchups, batting_df_raw[['game_id', 'player']], on='game_id')\n",
    "bat_start_pitcher_matchups['roto_game_id'] = bat_start_pitcher_matchups['game_date'] + bat_start_pitcher_matchups['player']\n",
    "\n",
    "#remove all where the batter id isnt there, we dont have matchup info for everyone\n",
    "bat_start_pitcher_matchups[bat_start_pitcher_matchups['batter'] != 0].shape\n",
    "\n",
    "bat_start_pitcher_matchups.drop(columns=['Unnamed: 0', 'batter', 'pitcher'], inplace=True)\n",
    "\n",
    "#calculate some statistics from the raw data\n",
    "bat_start_pitcher_matchups['ab'] = bat_start_pitcher_matchups.drop(['walk', 'hit_by_pitch', 'sac_fly', 'sac_fly_double_play', 'sac_bunt', 'sac_bunt_double_play', 'catcher_interf'], axis=1).sum(axis=1)\n",
    "\n",
    "bat_start_pitcher_matchups['pa'] = bat_start_pitcher_matchups.sum(axis=1)\n",
    "\n",
    "bat_start_pitcher_matchups['slugging_perc'] = (bat_start_pitcher_matchups['single'] + (2*bat_start_pitcher_matchups['double']) + \\\n",
    "                                            (3*bat_start_pitcher_matchups['triple']) + (4*bat_start_pitcher_matchups['home_run']))/ \\\n",
    "                                            bat_start_pitcher_matchups['ab']\n",
    "\n",
    "bat_start_pitcher_matchups['hits'] = bat_start_pitcher_matchups['single'] + bat_start_pitcher_matchups['double'] + bat_start_pitcher_matchups['triple'] + bat_start_pitcher_matchups['home_run']\n",
    "bat_start_pitcher_matchups['batting_avg'] = bat_start_pitcher_matchups['hits']/bat_start_pitcher_matchups['ab']\n",
    "\n",
    "bat_start_pitcher_matchups['on_base_perc'] = (bat_start_pitcher_matchups['hits'] + bat_start_pitcher_matchups['walk'] + bat_start_pitcher_matchups['hit_by_pitch'])/bat_start_pitcher_matchups['pa']\n",
    "\n",
    "#only keep these relevent statistics\n",
    "bat_start_pitcher_matchups = bat_start_pitcher_matchups[['ab', 'pa', 'slugging_perc', 'hits', 'batting_avg', 'on_base_perc', 'roto_game_id']]\n",
    "\n",
    "new_cols = []\n",
    "for col in bat_start_pitcher_matchups.columns:\n",
    "    if col != 'roto_game_id':\n",
    "        new_cols.append(col + '_matchup_hist')\n",
    "        \n",
    "new_cols.append('roto_game_id')\n",
    "\n",
    "bat_start_pitcher_matchups.columns = new_cols\n",
    "\n",
    "bat_start_pitcher_matchups.fillna(0, inplace=True)\n",
    "bat_start_pitcher_matchups.drop_duplicates(['roto_game_id'], inplace=True)"
   ]
  },
  {
   "cell_type": "markdown",
   "metadata": {},
   "source": [
    "Merge the features into one dataframe we can train the model on"
   ]
  },
  {
   "cell_type": "code",
   "execution_count": 9,
   "metadata": {},
   "outputs": [],
   "source": [
    "pitch_feature_df = pd.merge(pitch_life_avgs, pitch_rolling_avgs, on='roto_game_id')\n",
    "pitch_feature_df = pd.merge(pitch_feature_df, pitch_ytd_avgs, on='roto_game_id')\n",
    "pitch_feature_df = pd.merge(pitch_feature_df, pitch_rotoguru, on='roto_game_id')\n",
    "pitch_feature_df = pd.merge(pitch_feature_df, pitch_lagged_fd, on = 'roto_game_id')\n",
    "pitch_feature_df = pd.merge(pitch_feature_df, pitching_df[['roto_game_id', 'FD_points']], on='roto_game_id')"
   ]
  },
  {
   "cell_type": "code",
   "execution_count": 18,
   "metadata": {},
   "outputs": [],
   "source": [
    "#i think duplications are happening due to doubleheaders when the merges occur, hence the drop duplicates at the end\n",
    "bat_feature_df = pd.merge(bat_life_avgs, bat_rolling_avgs, on='roto_game_id')\n",
    "bat_feature_df = pd.merge(bat_feature_df, bat_ytd_avgs, on='roto_game_id')\n",
    "bat_feature_df = pd.merge(bat_feature_df, bat_start_pitcher_matchups, on = 'roto_game_id', how='left')\n",
    "bat_feature_df = pd.merge(bat_feature_df, bat_rotoguru, on='roto_game_id', how='left')\n",
    "bat_feature_df = pd.merge(bat_feature_df, bat_lagged_fd, on = 'roto_game_id')\n",
    "bat_feature_df = pd.merge(bat_feature_df, batting_df[['roto_game_id', 'FD_points']], on='roto_game_id')\n",
    "bat_feature_df.drop_duplicates(['roto_game_id'], inplace=True)"
   ]
  },
  {
   "cell_type": "code",
   "execution_count": 19,
   "metadata": {},
   "outputs": [],
   "source": [
    "#uncomment to write results to CSV to cache for the future\n",
    "#pitch_feature_df.to_csv(\"CSV/pitch_feature_df.csv\", index=False, header=True)\n",
    "bat_feature_df.to_csv(\"CSV/bat_feature_df.csv\", index=False, header=True)"
   ]
  },
  {
   "cell_type": "markdown",
   "metadata": {},
   "source": [
    "LOAD FEATURES IF THEY EXIST ALREADY"
   ]
  },
  {
   "cell_type": "code",
   "execution_count": 14,
   "metadata": {},
   "outputs": [],
   "source": [
    "#if they exist already and you just want to add new features - load them up here and then add new ones\n",
    "#pitch_feature_df = pd.read_csv(\"CSV/pitch_feature_df.csv\")\n",
    "#bat_feature_df = pd.read_csv(\"CSV/bat_feature_df.csv\")\n",
    "\n",
    "#example of adding new features\n",
    "#pitch_feature_df = pd.merge(pitch_feature_df, new_features, on='game_id')\n",
    "#add in lagged fd score\n",
    "pitch_feature_df = pd.merge(pitch_feature_df, pitch_lagged_fd, on='roto_game_id')\n",
    "bat_feature_df = pd.merge(bat_feature_df, bat_lagged_fd, on = 'roto_game_id')"
   ]
  },
  {
   "cell_type": "markdown",
   "metadata": {},
   "source": [
    "ADD IN PETE\"S FEATURE CSV and mine - there is a na issue so joining pete's features to mine for now"
   ]
  },
  {
   "cell_type": "code",
   "execution_count": null,
   "metadata": {},
   "outputs": [],
   "source": [
    "batting_df, pitching_df = dh.calc_fd_scores_roto()"
   ]
  },
  {
   "cell_type": "code",
   "execution_count": 181,
   "metadata": {},
   "outputs": [],
   "source": [
    "pete_bat_feature_df = pd.read_csv('CSV/roto_frame_with_stadium.csv')\n",
    "bat_feature_df = pd.read_csv(\"CSV/bat_feature_df.csv\")\n",
    "\n",
    "bat_feature_df = pd.merge(bat_feature_df, pete_bat_feature_df[['roto_game_id','home_run_ytdavg', 'double_ytdavg', 'batter_ytdavg', 'single_ytdavg', \\\n",
    "                                                              'stadium_BA', 'stadium_OBP', 'stadium_SLG', 'stadium_OPS', 'stadium_BAbip', 'fd_score']], on='roto_game_id')\n",
    "\n",
    "#we need to remove test data!!!\n",
    "bat_feature_df = pd.merge(bat_feature_df, batting_df[['roto_game_id', 'game_date', 'player']])\n",
    "\n",
    "#Add in lagged FD score for testing to make sure I'm doing it right\n",
    "bat_feature_df[\"fd_shift\"] = bat_feature_df.sort_values(by=['player', 'roto_game_id']).groupby('player')['fd_score'].shift(1)\n",
    "bat_feature_df.drop('player', axis=1, inplace=True)\n",
    "\n",
    "bat_feature_df = bat_feature_df[(bat_feature_df['game_date'] > '2016-01-01') & (bat_feature_df['game_date'] < '2018-08-01')]"
   ]
  },
  {
   "cell_type": "markdown",
   "metadata": {},
   "source": [
    "question - what is batter_ytdavg?"
   ]
  },
  {
   "cell_type": "code",
   "execution_count": 182,
   "metadata": {},
   "outputs": [],
   "source": [
    "#col_to_keep = ['home_run_ytdavg', 'double_ytdavg', 'batter_ytdavg', 'single_ytdavg', 'PA_ytdavg', 'pitches_ytdavg', 'wpa_bat_pos_lifeavg', 'RBI_lifeavg', 'stadium_OBP', \\\n",
    "                #'stadium_SLG', 'stadium_BA', 'strikes_total_ytdavg', 'AB_ytdavg', 'stadium_BAbip', 'slugging_perc_matchup_hist', 'H/A_h', 'FD_points', 'roto_game_id']\n",
    "\n",
    "col_to_keep = ['home_run_ytdavg', 'double_ytdavg', 'single_ytdavg', 'PA_ytdavg', 'pitches_ytdavg', 'wpa_bat_pos_lifeavg', 'RBI_lifeavg', \\\n",
    "                'strikes_total_ytdavg', 'AB_ytdavg', 'slugging_perc_matchup_hist', 'H/A_h', 'lagged_fd_score', 'stadium_BA', 'stadium_OBP', 'stadium_SLG', \\\n",
    "               'stadium_OPS', 'stadium_BAbip', 'FD_points', 'roto_game_id']\n",
    "\n",
    "cols_to_keep = ['H/A_h', 'fd_score', 'fd_shift', 'roto_game_id']\n",
    "\n",
    "bat_feature_df_sub = bat_feature_df[cols_to_keep]"
   ]
  },
  {
   "cell_type": "markdown",
   "metadata": {},
   "source": [
    "Check how many NA's there are"
   ]
  },
  {
   "cell_type": "code",
   "execution_count": 183,
   "metadata": {},
   "outputs": [
    {
     "data": {
      "text/plain": [
       "fd_shift        303\n",
       "roto_game_id      0\n",
       "fd_score          0\n",
       "H/A_h             0\n",
       "dtype: int64"
      ]
     },
     "execution_count": 183,
     "metadata": {},
     "output_type": "execute_result"
    }
   ],
   "source": [
    "bat_feature_df_sub.isna().sum().sort_values(ascending=False)"
   ]
  },
  {
   "cell_type": "markdown",
   "metadata": {},
   "source": [
    "<h4> Train the model </h4>"
   ]
  },
  {
   "cell_type": "code",
   "execution_count": 170,
   "metadata": {},
   "outputs": [],
   "source": [
    "import xgboost\n",
    "import baseball_models\n",
    "from sklearn.metrics import mean_absolute_error\n",
    "from sklearn.model_selection import TimeSeriesSplit"
   ]
  },
  {
   "cell_type": "markdown",
   "metadata": {},
   "source": [
    "Train the pitching model"
   ]
  },
  {
   "cell_type": "code",
   "execution_count": 13,
   "metadata": {},
   "outputs": [
    {
     "name": "stdout",
     "output_type": "stream",
     "text": [
      "Running iter: 1\n"
     ]
    },
    {
     "name": "stderr",
     "output_type": "stream",
     "text": [
      "C:\\Users\\Chris\\Anaconda3\\envs\\data-sci\\lib\\site-packages\\xgboost\\core.py:587: FutureWarning: Series.base is deprecated and will be removed in a future version\n",
      "  if getattr(data, 'base', None) is not None and \\\n"
     ]
    },
    {
     "name": "stdout",
     "output_type": "stream",
     "text": [
      "Iter 1 took 7.503997802734375 seconds.\n",
      "Running iter: 2\n"
     ]
    },
    {
     "name": "stderr",
     "output_type": "stream",
     "text": [
      "C:\\Users\\Chris\\Anaconda3\\envs\\data-sci\\lib\\site-packages\\xgboost\\core.py:587: FutureWarning: Series.base is deprecated and will be removed in a future version\n",
      "  if getattr(data, 'base', None) is not None and \\\n"
     ]
    },
    {
     "name": "stdout",
     "output_type": "stream",
     "text": [
      "Iter 2 took 9.654002666473389 seconds.\n",
      "Running iter: 3\n"
     ]
    },
    {
     "name": "stderr",
     "output_type": "stream",
     "text": [
      "C:\\Users\\Chris\\Anaconda3\\envs\\data-sci\\lib\\site-packages\\xgboost\\core.py:587: FutureWarning: Series.base is deprecated and will be removed in a future version\n",
      "  if getattr(data, 'base', None) is not None and \\\n"
     ]
    },
    {
     "name": "stdout",
     "output_type": "stream",
     "text": [
      "Iter 3 took 13.081003904342651 seconds.\n",
      "Running iter: 4\n"
     ]
    },
    {
     "name": "stderr",
     "output_type": "stream",
     "text": [
      "C:\\Users\\Chris\\Anaconda3\\envs\\data-sci\\lib\\site-packages\\xgboost\\core.py:587: FutureWarning: Series.base is deprecated and will be removed in a future version\n",
      "  if getattr(data, 'base', None) is not None and \\\n"
     ]
    },
    {
     "name": "stdout",
     "output_type": "stream",
     "text": [
      "Iter 4 took 22.799001693725586 seconds.\n",
      "Running iter: 5\n"
     ]
    },
    {
     "name": "stderr",
     "output_type": "stream",
     "text": [
      "C:\\Users\\Chris\\Anaconda3\\envs\\data-sci\\lib\\site-packages\\xgboost\\core.py:587: FutureWarning: Series.base is deprecated and will be removed in a future version\n",
      "  if getattr(data, 'base', None) is not None and \\\n"
     ]
    },
    {
     "name": "stdout",
     "output_type": "stream",
     "text": [
      "Iter 5 took 21.098002910614014 seconds.\n"
     ]
    }
   ],
   "source": [
    "pitching_cv = baseball_models.CrossValidator()\n",
    "\n",
    "#make sure we are sorted by time (days)\n",
    "pitch_feature_df.sort_values(by='roto_game_id',inplace=True)\n",
    "\n",
    "X_pitch, y_pitch, tscv_pitch = pitching_cv.train_test_split(pitch_feature_df.drop('FD_points', axis=1), pitch_feature_df['FD_points'], num_splits=25)\n",
    "\n",
    "#remove features that we know aren't valuable from previous feature engineering\n",
    "#we can add new features that we are trying for the first time in the 'new_features parameter'\n",
    "#life_features = pitch_life_avgs.drop('game_id', axis=1).columns\n",
    "\n",
    "#add other new features here...\n",
    "\n",
    "X_pitch = pitching_cv.clean_for_model(X_pitch, pitching=True)\n",
    "\n",
    "#initialize the model\n",
    "xgbreg_pitch = xgboost.XGBRegressor(silent=True, \n",
    "                      scale_pos_weight=1,\n",
    "                      learning_rate=0.01,  \n",
    "                      colsample_bytree = 0.4,\n",
    "                      subsample = 0.8, \n",
    "                      n_estimators=100, \n",
    "                      reg_alpha = 0.3,\n",
    "                      max_depth=4, \n",
    "                      gamma=10)\n",
    "\n",
    "pitching_cv.cross_validate(X_pitch, y_pitch, tscv_pitch, xgbreg_pitch)"
   ]
  },
  {
   "cell_type": "markdown",
   "metadata": {},
   "source": [
    "Train the batting model"
   ]
  },
  {
   "cell_type": "code",
   "execution_count": 5,
   "metadata": {},
   "outputs": [],
   "source": [
    "# import warnings filter\n",
    "from warnings import simplefilter\n",
    "# ignore all future warnings\n",
    "simplefilter(action='ignore', category=FutureWarning)"
   ]
  },
  {
   "cell_type": "markdown",
   "metadata": {},
   "source": [
    "For testing and looking at data"
   ]
  },
  {
   "cell_type": "code",
   "execution_count": 150,
   "metadata": {},
   "outputs": [],
   "source": [
    "#are NAs causing us issues??\n",
    "X_bat.dropna(inplace=True)"
   ]
  },
  {
   "cell_type": "code",
   "execution_count": null,
   "metadata": {},
   "outputs": [],
   "source": [
    "from sklearn.metrics import mean_absolute_error\n",
    "import time\n",
    "\n",
    "train_mae = []\n",
    "test_mae = []\n",
    "\n",
    "i=0\n",
    "for train_index, test_index in tscv_bat.split(X_bat):\n",
    "    if i < 300:\n",
    "        start = time.time()\n",
    "        print(\"Running iter: \" + str(i+1))\n",
    "        X_train, X_test = X_bat.iloc[train_index], X_bat.iloc[test_index]\n",
    "        y_train, y_test = y_bat.iloc[train_index], y_bat.iloc[test_index]\n",
    "        \n",
    "        print(\"Train index len: \" + str(len(X_train)))\n",
    "        print(\"Test index len: \" + str(len(X_test)))\n",
    "\n",
    "        #remove the ids so we can link them back up to predictions later\n",
    "        X_train_ids = X_train['roto_game_id']\n",
    "        X_train = X_train.drop('roto_game_id', axis=1)\n",
    "        \n",
    "        #for seeing what we are predicting at each iter\n",
    "        j=0\n",
    "        for k in range(X_train.shape[0]):\n",
    "            if j < 0:\n",
    "                print(X_train.iloc[k], y_train.iloc[k])\n",
    "                j+=1\n",
    "        \n",
    "        #train the model\n",
    "        model = xgbreg_bat.fit(X_train, y_train)\n",
    "\n",
    "        #same procedure - remove test ids\n",
    "        X_test_ids = X_test['roto_game_id']\n",
    "        X_test = X_test.drop('roto_game_id', axis=1)\n",
    "\n",
    "        #run predictions using trained model\n",
    "        train_preds = model.predict(X_train)\n",
    "        test_preds = model.predict(X_test)\n",
    "\n",
    "        #record the results\n",
    "        train_err = mean_absolute_error(y_train, train_preds)\n",
    "        test_err = mean_absolute_error(y_test, test_preds)\n",
    "        \n",
    "        train_mae.append(train_err)\n",
    "        test_mae.append(test_err)\n",
    "        \n",
    "        #print(\"Iter \" + str(i) + \" train err: \" + str(train_err))\n",
    "        #print(\"Iter \" + str(i) + \" test err: \" + str(test_err))\n",
    "        print(\"Iter \" + str(i+1) + \" took \" + str(time.time()-start))\n",
    "        i+=1\n",
    "\n"
   ]
  },
  {
   "cell_type": "code",
   "execution_count": 234,
   "metadata": {},
   "outputs": [
    {
     "data": {
      "image/png": "[encoded data removed]",
      "text/plain": [
       "<Figure size 1080x720 with 1 Axes>"
      ]
     },
     "metadata": {
      "needs_background": "light"
     },
     "output_type": "display_data"
    }
   ],
   "source": [
    "from matplotlib import pyplot as plt\n",
    "import seaborn as sns\n",
    "fig,ax = plt.subplots(figsize=(15,10))\n",
    "ax = sns.lineplot(y=train_mae, x=np.arange(0, len(train_mae)))\n",
    "ax = sns.lineplot(y=test_mae, x=np.arange(0, len(test_mae)), ax=ax, legend='brief')\n",
    "ax.set_xticks(ticks=np.arange(0,len(test_mae)+1, 10))\n",
    "ax.set_xlabel(xlabel=\"Split\", fontsize=16)\n",
    "ax.set_ylabel(ylabel=\"Mean Absolute Error\", fontsize=16)\n",
    "ax.set_title(\"Walk Forward Cross Validation: {} Splits\".format(len(train_mae)), fontsize=20)\n",
    "ax.tick_params(axis = 'both', which = 'minor', labelsize = 20)\n",
    "ax.legend(labels=['Train','Test'], fontsize=16)\n",
    "plt.show()"
   ]
  },
  {
   "cell_type": "code",
   "execution_count": 218,
   "metadata": {},
   "outputs": [
    {
     "name": "stdout",
     "output_type": "stream",
     "text": [
      "3.6063307687835096\n",
      "3.66328887921169\n"
     ]
    }
   ],
   "source": [
    "print(np.mean(train_mae))\n",
    "print(np.mean(test_mae))"
   ]
  },
  {
   "cell_type": "markdown",
   "metadata": {},
   "source": [
    "Actually train the model"
   ]
  },
  {
   "cell_type": "code",
   "execution_count": 213,
   "metadata": {},
   "outputs": [
    {
     "name": "stderr",
     "output_type": "stream",
     "text": [
      "C:\\Users\\Chris\\Anaconda3\\envs\\data-sci\\lib\\site-packages\\ipykernel_launcher.py:4: SettingWithCopyWarning: \n",
      "A value is trying to be set on a copy of a slice from a DataFrame\n",
      "\n",
      "See the caveats in the documentation: http://pandas.pydata.org/pandas-docs/stable/indexing.html#indexing-view-versus-copy\n",
      "  after removing the cwd from sys.path.\n"
     ]
    }
   ],
   "source": [
    "batting_cv = baseball_models.CrossValidator()\n",
    "\n",
    "#make sure we are sorted by time (days)\n",
    "bat_feature_df_sub.sort_values(by='roto_game_id',inplace=True)\n",
    "\n",
    "X_bat, y_bat, tscv_bat = batting_cv.train_test_split(bat_feature_df_sub.drop('fd_score', axis=1), bat_feature_df_sub['fd_score'], num_splits=250)\n",
    "\n",
    "#y_bat.fillna(0, inplace=True)\n",
    "\n",
    "#remove features that we know aren't valuable from previous feature engineering\n",
    "#we can add new features that we are trying for the first time in the 'new_features parameter'\n",
    "\n",
    "#life_features = bat_life_avgs.drop('roto_game_id', axis=1).columns\n",
    "#matchup_features = bat_start_pitcher_matchups.drop('roto_game_id', axis = 1).columns\n",
    "#bat_roto_features = bat_rotoguru.drop('roto_game_id', axis = 1).columns\n",
    "\n",
    "#new_columns = list(life_features)+list(matchup_features)+list(bat_roto_features)\n",
    "\n",
    "#new_columns.append('lagged_fd_score')\n",
    "\n",
    "#add other new features as a list here...\n",
    "\n",
    "#X_bat = batting_cv.clean_for_model(X_bat, batting=True, new_features = new_columns)\n",
    "\n",
    "#initialize the model\n",
    "xgbreg_bat = xgboost.XGBRegressor(silent=True, \n",
    "                      scale_pos_weight=1,\n",
    "                      learning_rate=0.01,  \n",
    "                      colsample_bytree = 0.4,\n",
    "                      subsample = 0.8, \n",
    "                      n_estimators=100, \n",
    "                      reg_alpha = 0.3,\n",
    "                      max_depth=4, \n",
    "                      gamma=10)\n",
    "\n",
    "#batting_cv.cross_validate(X_bat, y_bat, tscv_bat, xgbreg_bat)"
   ]
  },
  {
   "cell_type": "code",
   "execution_count": null,
   "metadata": {},
   "outputs": [],
   "source": [
    "batting_cv.log_model(notes=\"250 iterations - just lagged_fd_score and home/away\")"
   ]
  },
  {
   "cell_type": "code",
   "execution_count": 229,
   "metadata": {},
   "outputs": [],
   "source": [
    "import pickle\n",
    "\n",
    "pickle.dump(xgbreg_bat, open(\"xgb_bat.pickle\", 'wb'))\n",
    "pickle.dump(batting_cv, open(\"batting_cv.pickle\", 'wb'))\n",
    "\n",
    "#pickle.dump(xgbreg_pitch, open(\"xgb_pitch.pickle\", 'wb'))\n",
    "#pickle.dump(pitching_cv, open(\"pitching_cv.pickle\", 'wb'))"
   ]
  },
  {
   "cell_type": "markdown",
   "metadata": {},
   "source": [
    "<h4> Make predictions! </h4>"
   ]
  },
  {
   "cell_type": "code",
   "execution_count": 25,
   "metadata": {},
   "outputs": [],
   "source": [
    "#this lookup key table is needed to sync up to rotoguru data to make the final predictions\n",
    "player_lookup = pd.read_csv(\"CSV/player_lookup_2015.csv\")"
   ]
  },
  {
   "cell_type": "markdown",
   "metadata": {},
   "source": [
    "We need to bring in Rotoguru data to get salary information"
   ]
  },
  {
   "cell_type": "code",
   "execution_count": 37,
   "metadata": {},
   "outputs": [],
   "source": [
    "rotoguru  = pd.read_csv('mlb-dbd-2015.csv', sep=\":\", index_col=False)\n",
    "rotoguru.columns = ['GID', 'MLB_ID','Name_Last_First','Name_First_Last',' P/H','Hand','Date','Team','Oppt','H/A','Game#','Game_ID','Gametime_ET','Team_score','Oppt_score','Home_Ump','Temp','Condition','W_speed','W_dir','ADI','prior_ADI','GS','GP','Pos','Order','Oppt_pitch_hand','Oppt_pich_GID','Oppt_pitch_MLB_ID','Oppt_pitch_Name','PA','wOBA_num','IP','W/L/S','QS','FD_points','DK_points','DD_points','SF_points','FD_salary','DK_salary','DD_salary','SF_salary','FD_pos','DK_pos','DD_pos','SF_pos']\n",
    "rotoguru.drop(rotoguru.tail(1).index,inplace=True)\n",
    "pd.set_option('display.max_columns', 500)\n",
    "#get dates as normal formats\n",
    "rotoguru['Date'] = rotoguru['Date'].astype(str).str[:-2]\n",
    "rotoguru['Date'] = pd.to_datetime(rotoguru['Date'])\n",
    "rotoguru['last_name'], rotoguru['first_name'] = zip(*rotoguru['Name_Last_First'].apply(lambda x: x.split(',')))"
   ]
  },
  {
   "cell_type": "markdown",
   "metadata": {},
   "source": [
    "Combine Rotoguru data with batting data"
   ]
  },
  {
   "cell_type": "code",
   "execution_count": 101,
   "metadata": {},
   "outputs": [],
   "source": [
    "#we zip up the game id and the prediction - lets get those into a dataframe and then we can join back in other info\n",
    "bat_pred_df = pd.DataFrame(batting_cv.id_preds, columns=['fd_score', 'game_id'])\n",
    "\n",
    "#join in other relevant columns\n",
    "bat_pred_df = pd.merge(bat_pred_df, batting_df[['game_id', 'player', 'game_date']], on ='game_id')\n",
    "bat_pred_df = pd.merge(bat_pred_df, player_lookup[['key_bbref', 'key_mlbam']], left_on='player', right_on='key_bbref')\n",
    "#convert to datetime to be able to merge with rotoguru\n",
    "bat_pred_df['game_date'] = pd.to_datetime(bat_pred_df['game_date'])\n",
    "bat_pred_df.drop('player', axis=1, inplace=True)\n",
    "\n",
    "bat_pred_df = pd.merge(bat_pred_df, rotoguru[['MLB_ID', 'first_name', 'last_name', 'Date', 'Team', 'Pos', 'FD_points', 'FD_salary']], left_on=['game_date', 'key_mlbam'],\n",
    "        right_on=['Date', 'MLB_ID'])\n",
    "\n",
    "#drop extraneous columns\n",
    "bat_pred_df.drop(['MLB_ID', 'Date'], axis=1, inplace=True)\n",
    "#there are a couple rows that don't show up in the rotoguru data\n",
    "bat_pred_df.dropna(inplace=True)"
   ]
  },
  {
   "cell_type": "markdown",
   "metadata": {},
   "source": [
    "Do the same for the pitching dataframe"
   ]
  },
  {
   "cell_type": "code",
   "execution_count": 100,
   "metadata": {},
   "outputs": [],
   "source": [
    "pitch_pred_df = pd.DataFrame(pitching_cv.id_preds, columns=['fd_score', 'game_id'])\n",
    "\n",
    "#join in other relevant columns\n",
    "pitch_pred_df = pd.merge(pitch_pred_df, pitching_df[['game_id', 'player', 'game_date']], on ='game_id')\n",
    "pitch_pred_df = pd.merge(pitch_pred_df, player_lookup[['key_bbref', 'key_mlbam']], left_on='player', right_on='key_bbref')\n",
    "#convert to datetime to be able to merge with rotoguru\n",
    "pitch_pred_df['game_date'] = pd.to_datetime(pitch_pred_df['game_date'])\n",
    "pitch_pred_df.drop('player', axis=1, inplace=True)\n",
    "\n",
    "pitch_pred_df = pd.merge(pitch_pred_df, rotoguru[['MLB_ID', 'first_name', 'last_name', 'Date', 'Team', 'Pos', 'FD_points', 'FD_salary']], left_on=['game_date', 'key_mlbam'],\n",
    "        right_on=['Date', 'MLB_ID'])\n",
    "\n",
    "#drop extraneous columns\n",
    "pitch_pred_df.drop(['MLB_ID', 'Date'], axis=1, inplace=True)\n",
    "#there are a couple rows that don't show up in the rotoguru data\n",
    "pitch_pred_df.dropna(inplace=True)"
   ]
  },
  {
   "cell_type": "markdown",
   "metadata": {},
   "source": [
    "Merge the two together to hand to the optimizer"
   ]
  },
  {
   "cell_type": "code",
   "execution_count": 102,
   "metadata": {},
   "outputs": [],
   "source": [
    "prediction_df = pd.concat([bat_pred_df, pitch_pred_df], axis=0)\n",
    "\n",
    "#exclude postseason days\n",
    "prediction_df = prediction_df[prediction_df['game_date'] < '2015-10-01']"
   ]
  },
  {
   "cell_type": "markdown",
   "metadata": {},
   "source": [
    "We need to do some final cleaning of the positions to prepare for optimizing"
   ]
  },
  {
   "cell_type": "code",
   "execution_count": 103,
   "metadata": {},
   "outputs": [],
   "source": [
    "prediction_df.loc[(prediction_df['Pos'] == 'C') | (prediction_df['Pos'] == '1B'), 'Pos'] = '1B/C'\n",
    "prediction_df.loc[(prediction_df['Pos'] == 'CF') | (prediction_df['Pos'] == 'LF') | (prediction_df['Pos'] == 'RF'), 'Pos'] = 'OF'\n",
    "prediction_df.loc[prediction_df['Pos'] == 'DH', 'Pos'] = 'UTIL'"
   ]
  },
  {
   "cell_type": "markdown",
   "metadata": {},
   "source": [
    "<h3> OPTIMIZZZEEE </h3>"
   ]
  },
  {
   "cell_type": "code",
   "execution_count": 50,
   "metadata": {},
   "outputs": [],
   "source": [
    "import pandas as pd\n",
    "from pydfs_lineup_optimizer import get_optimizer, Site, Sport, Player\n",
    "\n",
    "optimizer = get_optimizer(Site.FANDUEL, Sport.BASEBALL)"
   ]
  },
  {
   "cell_type": "code",
   "execution_count": 178,
   "metadata": {},
   "outputs": [],
   "source": [
    "#select a random day to test - we will want to be more methodical and test a series of days going forward I think\n",
    "unique_test_days = prediction_df['game_date'].astype(str).unique()\n",
    "rand_day = unique_test_days[np.random.randint(0, len(unique_test_days))]\n",
    "\n",
    "#need to add\n",
    "\n",
    "day_to_predict_df = prediction_df[prediction_df['game_date'] == rand_day]"
   ]
  },
  {
   "cell_type": "code",
   "execution_count": 179,
   "metadata": {},
   "outputs": [
    {
     "name": "stdout",
     "output_type": "stream",
     "text": [
      "We are predicting lineups for:  2015-09-15\n"
     ]
    }
   ],
   "source": [
    "print(\"We are predicting lineups for: \", rand_day)"
   ]
  },
  {
   "cell_type": "code",
   "execution_count": 180,
   "metadata": {},
   "outputs": [
    {
     "name": "stdout",
     "output_type": "stream",
     "text": [
      "There are 309 players to select a lineup from\n"
     ]
    }
   ],
   "source": [
    "print(\"There are {} players to select a lineup from\".format(day_to_predict_df.shape[0]))"
   ]
  },
  {
   "cell_type": "markdown",
   "metadata": {},
   "source": [
    "Let's create the list of player objects to hand to the optimizer"
   ]
  },
  {
   "cell_type": "code",
   "execution_count": 181,
   "metadata": {},
   "outputs": [],
   "source": [
    "players = list(day_to_predict_df.apply(get_player_object, axis=1))"
   ]
  },
  {
   "cell_type": "markdown",
   "metadata": {},
   "source": [
    "<h3> THE PREDICTED LINEUP </h3>\n",
    "\n",
    "AKA holy shit it works"
   ]
  },
  {
   "cell_type": "code",
   "execution_count": 182,
   "metadata": {},
   "outputs": [
    {
     "name": "stdout",
     "output_type": "stream",
     "text": [
      " 1. P      Jacob deGrom                 P     NYM            24.128  11100.0$  \n",
      " 2. C/1B   Dan Murphy                   2B/1B NYM            6.08    3400.0$   \n",
      " 3. 2B     Brian Dozier                 2B    MIN            6.865   3000.0$   \n",
      " 4. 3B     Nolan Arenado                3B    COL            7.554   4000.0$   \n",
      " 5. SS     Alexei Ramirez               SS/P  CHW            7.954   3300.0$   \n",
      " 6. OF     Yoenis Cespedes              OF    NYM            7.564   5100.0$   \n",
      " 7. OF     Jose Bautista                OF    TOR            8.164   5400.0$   \n",
      " 8. OF     Bryce Harper                 OF    WAS            7.972   5300.0$   \n",
      " 9. UTIL   Josh Donaldson               3B    TOR            7.405   5700.0$   \n",
      "\n",
      "Fantasy Points 83.69\n",
      "Salary 46300.00\n",
      "\n",
      "[ Jacob deGrom P (NYM),  Dan Murphy 2B/1B (NYM),  Brian Dozier 2B (MIN),  Nolan Arenado 3B (COL),  Alexei Ramirez SS/P (CHW),  Yoenis Cespedes OF (NYM),  Jose Bautista OF (TOR),  Bryce Harper OF (WAS),  Josh Donaldson 3B (TOR)]\n",
      "83.687\n",
      "46300.0\n"
     ]
    }
   ],
   "source": [
    "optimizer.load_players(players)\n",
    "predicted_best_lineup = next(optimizer.optimize(n=1))\n",
    "\n",
    "print(predicted_best_lineup)\n",
    "print(predicted_best_lineup.players)  # list of players\n",
    "print(predicted_best_lineup.fantasy_points_projection)\n",
    "print(predicted_best_lineup.salary_costs)"
   ]
  },
  {
   "cell_type": "markdown",
   "metadata": {},
   "source": [
    "Let's see how these players actually performed on the day we picked!"
   ]
  },
  {
   "cell_type": "code",
   "execution_count": 183,
   "metadata": {},
   "outputs": [],
   "source": [
    "rotoguru_rand_day = rotoguru[rotoguru['Date'] == rand_day]"
   ]
  },
  {
   "cell_type": "code",
   "execution_count": 184,
   "metadata": {},
   "outputs": [],
   "source": [
    "players = []\n",
    "for player in predicted_best_lineup.players:\n",
    "    player_list = str(player).split(\" \")\n",
    "    first_name = player_list[1]\n",
    "    last_name = player_list[2]\n",
    "    \n",
    "    players.append(last_name + \", \" + first_name)\n",
    "    \n",
    "actual_team_performance = rotoguru_rand_day[rotoguru_rand_day['Name_Last_First'].isin(players)]"
   ]
  },
  {
   "cell_type": "code",
   "execution_count": 185,
   "metadata": {},
   "outputs": [
    {
     "data": {
      "text/html": [
       "<div>\n",
       "<style scoped>\n",
       "    .dataframe tbody tr th:only-of-type {\n",
       "        vertical-align: middle;\n",
       "    }\n",
       "\n",
       "    .dataframe tbody tr th {\n",
       "        vertical-align: top;\n",
       "    }\n",
       "\n",
       "    .dataframe thead th {\n",
       "        text-align: right;\n",
       "    }\n",
       "</style>\n",
       "<table border=\"1\" class=\"dataframe\">\n",
       "  <thead>\n",
       "    <tr style=\"text-align: right;\">\n",
       "      <th></th>\n",
       "      <th>Name_Last_First</th>\n",
       "      <th>FD_points</th>\n",
       "    </tr>\n",
       "  </thead>\n",
       "  <tbody>\n",
       "    <tr>\n",
       "      <th>1438</th>\n",
       "      <td>Arenado, Nolan</td>\n",
       "      <td>8.00</td>\n",
       "    </tr>\n",
       "    <tr>\n",
       "      <th>2380</th>\n",
       "      <td>Bautista, Jose</td>\n",
       "      <td>-1.00</td>\n",
       "    </tr>\n",
       "    <tr>\n",
       "      <th>7823</th>\n",
       "      <td>Cespedes, Yoenis</td>\n",
       "      <td>0.00</td>\n",
       "    </tr>\n",
       "    <tr>\n",
       "      <th>10503</th>\n",
       "      <td>deGrom, Jacob</td>\n",
       "      <td>4.00</td>\n",
       "    </tr>\n",
       "    <tr>\n",
       "      <th>11277</th>\n",
       "      <td>Donaldson, Josh</td>\n",
       "      <td>-1.00</td>\n",
       "    </tr>\n",
       "    <tr>\n",
       "      <th>11449</th>\n",
       "      <td>Dozier, Brian</td>\n",
       "      <td>1.00</td>\n",
       "    </tr>\n",
       "    <tr>\n",
       "      <th>19097</th>\n",
       "      <td>Harper, Bryce</td>\n",
       "      <td>16.00</td>\n",
       "    </tr>\n",
       "    <tr>\n",
       "      <th>29653</th>\n",
       "      <td>Murphy, Dan</td>\n",
       "      <td>-1.25</td>\n",
       "    </tr>\n",
       "    <tr>\n",
       "      <th>35211</th>\n",
       "      <td>Ramirez, Alexei</td>\n",
       "      <td>8.50</td>\n",
       "    </tr>\n",
       "  </tbody>\n",
       "</table>\n",
       "</div>"
      ],
      "text/plain": [
       "        Name_Last_First  FD_points\n",
       "1438     Arenado, Nolan       8.00\n",
       "2380     Bautista, Jose      -1.00\n",
       "7823   Cespedes, Yoenis       0.00\n",
       "10503     deGrom, Jacob       4.00\n",
       "11277   Donaldson, Josh      -1.00\n",
       "11449     Dozier, Brian       1.00\n",
       "19097     Harper, Bryce      16.00\n",
       "29653       Murphy, Dan      -1.25\n",
       "35211   Ramirez, Alexei       8.50"
      ]
     },
     "execution_count": 185,
     "metadata": {},
     "output_type": "execute_result"
    }
   ],
   "source": [
    "actual_team_performance[['Name_Last_First', 'FD_points']]"
   ]
  },
  {
   "cell_type": "code",
   "execution_count": 186,
   "metadata": {},
   "outputs": [
    {
     "data": {
      "text/plain": [
       "34.25"
      ]
     },
     "execution_count": 186,
     "metadata": {},
     "output_type": "execute_result"
    }
   ],
   "source": [
    "actual_team_performance['FD_points'].sum()"
   ]
  },
  {
   "cell_type": "markdown",
   "metadata": {},
   "source": [
    "Now we want to re-run this and see what the actual best lineup was!"
   ]
  },
  {
   "cell_type": "code",
   "execution_count": 45,
   "metadata": {},
   "outputs": [],
   "source": [
    "rotoguru = rotoguru[rotoguru['Date'] < '2015-09-15']\n",
    "\n",
    "rotoguru.loc[(rotoguru['Pos'] == 'C') | (rotoguru['Pos'] == '1B'), 'Pos'] = '1B/C'\n",
    "rotoguru.loc[(rotoguru['Pos'] == 'CF') | (rotoguru['Pos'] == 'LF') | (rotoguru['Pos'] == 'RF'), 'Pos'] = 'OF'\n",
    "rotoguru.loc[rotoguru['Pos'] == 'DH', 'Pos'] = 'UTIL'"
   ]
  },
  {
   "cell_type": "code",
   "execution_count": 65,
   "metadata": {},
   "outputs": [
    {
     "ename": "PulpSolverError",
     "evalue": "Pulp: Error while executing C:\\Users\\Chris\\Anaconda3\\envs\\si671\\lib\\site-packages\\pulp\\solverdir\\cbc\\win\\64\\cbc.exe",
     "output_type": "error",
     "traceback": [
      "\u001b[1;31m---------------------------------------------------------------------------\u001b[0m",
      "\u001b[1;31mPulpSolverError\u001b[0m                           Traceback (most recent call last)",
      "\u001b[1;32m<ipython-input-65-39933b64ee32>\u001b[0m in \u001b[0;36m<module>\u001b[1;34m()\u001b[0m\n\u001b[0;32m      7\u001b[0m     \u001b[0moptimizer\u001b[0m\u001b[1;33m.\u001b[0m\u001b[0mload_players\u001b[0m\u001b[1;33m(\u001b[0m\u001b[0mreal_players\u001b[0m\u001b[1;33m)\u001b[0m\u001b[1;33m\u001b[0m\u001b[0m\n\u001b[0;32m      8\u001b[0m \u001b[1;33m\u001b[0m\u001b[0m\n\u001b[1;32m----> 9\u001b[1;33m     \u001b[1;32mfor\u001b[0m \u001b[0mlineup\u001b[0m \u001b[1;32min\u001b[0m \u001b[0moptimizer\u001b[0m\u001b[1;33m.\u001b[0m\u001b[0moptimize\u001b[0m\u001b[1;33m(\u001b[0m\u001b[0mn\u001b[0m\u001b[1;33m=\u001b[0m\u001b[1;36m1\u001b[0m\u001b[1;33m)\u001b[0m\u001b[1;33m:\u001b[0m\u001b[1;33m\u001b[0m\u001b[0m\n\u001b[0m\u001b[0;32m     10\u001b[0m         \u001b[0msecond_base\u001b[0m\u001b[1;33m.\u001b[0m\u001b[0mappend\u001b[0m\u001b[1;33m(\u001b[0m\u001b[0mlineup\u001b[0m\u001b[1;33m.\u001b[0m\u001b[0mplayers\u001b[0m\u001b[1;33m[\u001b[0m\u001b[1;36m2\u001b[0m\u001b[1;33m]\u001b[0m\u001b[1;33m)\u001b[0m\u001b[1;33m\u001b[0m\u001b[0m\n",
      "\u001b[1;32m~\\Anaconda3\\envs\\si671\\lib\\site-packages\\pydfs_lineup_optimizer\\lineup_optimizer.py\u001b[0m in \u001b[0;36moptimize\u001b[1;34m(self, n, max_exposure, randomness, with_injured)\u001b[0m\n\u001b[0;32m    372\u001b[0m                 \u001b[0mconstraint\u001b[0m\u001b[1;33m.\u001b[0m\u001b[0mapply_for_iteration\u001b[0m\u001b[1;33m(\u001b[0m\u001b[0msolver\u001b[0m\u001b[1;33m,\u001b[0m \u001b[0mplayers_dict\u001b[0m\u001b[1;33m,\u001b[0m \u001b[0mprevious_lineup\u001b[0m\u001b[1;33m)\u001b[0m\u001b[1;33m\u001b[0m\u001b[0m\n\u001b[0;32m    373\u001b[0m             \u001b[1;32mtry\u001b[0m\u001b[1;33m:\u001b[0m\u001b[1;33m\u001b[0m\u001b[0m\n\u001b[1;32m--> 374\u001b[1;33m                 \u001b[0msolved_variables\u001b[0m \u001b[1;33m=\u001b[0m \u001b[0msolver\u001b[0m\u001b[1;33m.\u001b[0m\u001b[0msolve\u001b[0m\u001b[1;33m(\u001b[0m\u001b[1;33m)\u001b[0m\u001b[1;33m\u001b[0m\u001b[0m\n\u001b[0m\u001b[0;32m    375\u001b[0m                 \u001b[0mlineup_players\u001b[0m \u001b[1;33m=\u001b[0m \u001b[1;33m[\u001b[0m\u001b[1;33m]\u001b[0m\u001b[1;33m\u001b[0m\u001b[0m\n\u001b[0;32m    376\u001b[0m                 \u001b[1;32mfor\u001b[0m \u001b[0msolved_variable\u001b[0m \u001b[1;32min\u001b[0m \u001b[0msolved_variables\u001b[0m\u001b[1;33m:\u001b[0m\u001b[1;33m\u001b[0m\u001b[0m\n",
      "\u001b[1;32m~\\Anaconda3\\envs\\si671\\lib\\site-packages\\pydfs_lineup_optimizer\\solvers\\pulp_solver.py\u001b[0m in \u001b[0;36msolve\u001b[1;34m(self)\u001b[0m\n\u001b[0;32m     37\u001b[0m \u001b[1;33m\u001b[0m\u001b[0m\n\u001b[0;32m     38\u001b[0m     \u001b[1;32mdef\u001b[0m \u001b[0msolve\u001b[0m\u001b[1;33m(\u001b[0m\u001b[0mself\u001b[0m\u001b[1;33m)\u001b[0m\u001b[1;33m:\u001b[0m\u001b[1;33m\u001b[0m\u001b[0m\n\u001b[1;32m---> 39\u001b[1;33m         \u001b[0mself\u001b[0m\u001b[1;33m.\u001b[0m\u001b[0mprob\u001b[0m\u001b[1;33m.\u001b[0m\u001b[0msolve\u001b[0m\u001b[1;33m(\u001b[0m\u001b[1;33m)\u001b[0m\u001b[1;33m\u001b[0m\u001b[0m\n\u001b[0m\u001b[0;32m     40\u001b[0m         \u001b[1;32mif\u001b[0m \u001b[0mself\u001b[0m\u001b[1;33m.\u001b[0m\u001b[0mprob\u001b[0m\u001b[1;33m.\u001b[0m\u001b[0mstatus\u001b[0m \u001b[1;33m==\u001b[0m \u001b[0mLpStatusOptimal\u001b[0m\u001b[1;33m:\u001b[0m\u001b[1;33m\u001b[0m\u001b[0m\n\u001b[0;32m     41\u001b[0m             \u001b[0mresult\u001b[0m \u001b[1;33m=\u001b[0m \u001b[1;33m[\u001b[0m\u001b[1;33m]\u001b[0m\u001b[1;33m\u001b[0m\u001b[0m\n",
      "\u001b[1;32m~\\Anaconda3\\envs\\si671\\lib\\site-packages\\pulp\\pulp.py\u001b[0m in \u001b[0;36msolve\u001b[1;34m(self, solver, **kwargs)\u001b[0m\n\u001b[0;32m   1669\u001b[0m         \u001b[1;31m#time it\u001b[0m\u001b[1;33m\u001b[0m\u001b[1;33m\u001b[0m\u001b[0m\n\u001b[0;32m   1670\u001b[0m         \u001b[0mself\u001b[0m\u001b[1;33m.\u001b[0m\u001b[0msolutionTime\u001b[0m \u001b[1;33m=\u001b[0m \u001b[1;33m-\u001b[0m\u001b[0mclock\u001b[0m\u001b[1;33m(\u001b[0m\u001b[1;33m)\u001b[0m\u001b[1;33m\u001b[0m\u001b[0m\n\u001b[1;32m-> 1671\u001b[1;33m         \u001b[0mstatus\u001b[0m \u001b[1;33m=\u001b[0m \u001b[0msolver\u001b[0m\u001b[1;33m.\u001b[0m\u001b[0mactualSolve\u001b[0m\u001b[1;33m(\u001b[0m\u001b[0mself\u001b[0m\u001b[1;33m,\u001b[0m \u001b[1;33m**\u001b[0m\u001b[0mkwargs\u001b[0m\u001b[1;33m)\u001b[0m\u001b[1;33m\u001b[0m\u001b[0m\n\u001b[0m\u001b[0;32m   1672\u001b[0m         \u001b[0mself\u001b[0m\u001b[1;33m.\u001b[0m\u001b[0msolutionTime\u001b[0m \u001b[1;33m+=\u001b[0m \u001b[0mclock\u001b[0m\u001b[1;33m(\u001b[0m\u001b[1;33m)\u001b[0m\u001b[1;33m\u001b[0m\u001b[0m\n\u001b[0;32m   1673\u001b[0m         \u001b[0mself\u001b[0m\u001b[1;33m.\u001b[0m\u001b[0mrestoreObjective\u001b[0m\u001b[1;33m(\u001b[0m\u001b[0mwasNone\u001b[0m\u001b[1;33m,\u001b[0m \u001b[0mdummyVar\u001b[0m\u001b[1;33m)\u001b[0m\u001b[1;33m\u001b[0m\u001b[0m\n",
      "\u001b[1;32m~\\Anaconda3\\envs\\si671\\lib\\site-packages\\pulp\\solvers.py\u001b[0m in \u001b[0;36mactualSolve\u001b[1;34m(self, lp, **kwargs)\u001b[0m\n\u001b[0;32m   1360\u001b[0m     \u001b[1;32mdef\u001b[0m \u001b[0mactualSolve\u001b[0m\u001b[1;33m(\u001b[0m\u001b[0mself\u001b[0m\u001b[1;33m,\u001b[0m \u001b[0mlp\u001b[0m\u001b[1;33m,\u001b[0m \u001b[1;33m**\u001b[0m\u001b[0mkwargs\u001b[0m\u001b[1;33m)\u001b[0m\u001b[1;33m:\u001b[0m\u001b[1;33m\u001b[0m\u001b[0m\n\u001b[0;32m   1361\u001b[0m         \u001b[1;34m\"\"\"Solve a well formulated lp problem\"\"\"\u001b[0m\u001b[1;33m\u001b[0m\u001b[0m\n\u001b[1;32m-> 1362\u001b[1;33m         \u001b[1;32mreturn\u001b[0m \u001b[0mself\u001b[0m\u001b[1;33m.\u001b[0m\u001b[0msolve_CBC\u001b[0m\u001b[1;33m(\u001b[0m\u001b[0mlp\u001b[0m\u001b[1;33m,\u001b[0m \u001b[1;33m**\u001b[0m\u001b[0mkwargs\u001b[0m\u001b[1;33m)\u001b[0m\u001b[1;33m\u001b[0m\u001b[0m\n\u001b[0m\u001b[0;32m   1363\u001b[0m \u001b[1;33m\u001b[0m\u001b[0m\n\u001b[0;32m   1364\u001b[0m     \u001b[1;32mdef\u001b[0m \u001b[0mavailable\u001b[0m\u001b[1;33m(\u001b[0m\u001b[0mself\u001b[0m\u001b[1;33m)\u001b[0m\u001b[1;33m:\u001b[0m\u001b[1;33m\u001b[0m\u001b[0m\n",
      "\u001b[1;32m~\\Anaconda3\\envs\\si671\\lib\\site-packages\\pulp\\solvers.py\u001b[0m in \u001b[0;36msolve_CBC\u001b[1;34m(self, lp, use_mps)\u001b[0m\n\u001b[0;32m   1425\u001b[0m                                     self.path)\n\u001b[0;32m   1426\u001b[0m         \u001b[1;32mif\u001b[0m \u001b[1;32mnot\u001b[0m \u001b[0mos\u001b[0m\u001b[1;33m.\u001b[0m\u001b[0mpath\u001b[0m\u001b[1;33m.\u001b[0m\u001b[0mexists\u001b[0m\u001b[1;33m(\u001b[0m\u001b[0mtmpSol\u001b[0m\u001b[1;33m)\u001b[0m\u001b[1;33m:\u001b[0m\u001b[1;33m\u001b[0m\u001b[0m\n\u001b[1;32m-> 1427\u001b[1;33m             \u001b[1;32mraise\u001b[0m \u001b[0mPulpSolverError\u001b[0m\u001b[1;33m(\u001b[0m\u001b[1;34m\"Pulp: Error while executing \"\u001b[0m\u001b[1;33m+\u001b[0m\u001b[0mself\u001b[0m\u001b[1;33m.\u001b[0m\u001b[0mpath\u001b[0m\u001b[1;33m)\u001b[0m\u001b[1;33m\u001b[0m\u001b[0m\n\u001b[0m\u001b[0;32m   1428\u001b[0m         \u001b[1;32mif\u001b[0m \u001b[0muse_mps\u001b[0m\u001b[1;33m:\u001b[0m\u001b[1;33m\u001b[0m\u001b[0m\n\u001b[0;32m   1429\u001b[0m             lp.status, values, reducedCosts, shadowPrices, slacks = self.readsol_MPS(\n",
      "\u001b[1;31mPulpSolverError\u001b[0m: Pulp: Error while executing C:\\Users\\Chris\\Anaconda3\\envs\\si671\\lib\\site-packages\\pulp\\solverdir\\cbc\\win\\64\\cbc.exe"
     ]
    }
   ],
   "source": [
    "dates = list(rotoguru.Date.unique())\n",
    "\n",
    "second_base = []\n",
    "\n",
    "for date in dates[0:1]:\n",
    "    real_players = list(rotoguru[rotoguru.Date == date].apply(get_player_object_real, axis=1))\n",
    "    optimizer.load_players(real_players)\n",
    "\n",
    "    for lineup in optimizer.optimize(n=1):\n",
    "        second_base.append(lineup.players[2])"
   ]
  },
  {
   "cell_type": "code",
   "execution_count": 62,
   "metadata": {},
   "outputs": [
    {
     "data": {
      "text/html": [
       "[ Jonathan Schoop 2B (BAL),  Phillip Gosselin 2B (ARI),  Stephen Drew 2B (NYY)]"
      ],
      "text/plain": [
       "[ Jonathan Schoop 2B (BAL),  Phillip Gosselin 2B (ARI),  Stephen Drew 2B (NYY)]"
      ]
     },
     "execution_count": 62,
     "metadata": {},
     "output_type": "execute_result"
    }
   ],
   "source": [
    "second_base"
   ]
  },
  {
   "cell_type": "code",
   "execution_count": 57,
   "metadata": {},
   "outputs": [
    {
     "data": {
      "text/plain": [
       " Jonathan Schoop 2B (BAL)"
      ]
     },
     "execution_count": 57,
     "metadata": {},
     "output_type": "execute_result"
    }
   ],
   "source": [
    "p[2]"
   ]
  },
  {
   "cell_type": "code",
   "execution_count": 187,
   "metadata": {},
   "outputs": [
    {
     "name": "stderr",
     "output_type": "stream",
     "text": [
      "C:\\Users\\Chris\\Anaconda3\\envs\\si671\\lib\\site-packages\\pandas\\core\\indexing.py:543: SettingWithCopyWarning: \n",
      "A value is trying to be set on a copy of a slice from a DataFrame.\n",
      "Try using .loc[row_indexer,col_indexer] = value instead\n",
      "\n",
      "See the caveats in the documentation: http://pandas.pydata.org/pandas-docs/stable/indexing.html#indexing-view-versus-copy\n",
      "  self.obj[item] = s\n"
     ]
    },
    {
     "name": "stdout",
     "output_type": "stream",
     "text": [
      " 1. P      Stephen Strasburg            P     WAS            26.0    10100.0$  \n",
      " 2. C/1B   Mike Olt                     3B/1B CHW            0.25    2200.0$   \n",
      " 3. 2B     Dee Gordon                   2B    MIA            10.75   3600.0$   \n",
      " 4. 3B     Manny Machado                3B    BAL            8.25    3500.0$   \n",
      " 5. SS     Marcus Semien                SS    OAK            9.5     2900.0$   \n",
      " 6. OF     Bryce Harper                 OF    WAS            16.0    5300.0$   \n",
      " 7. OF     Jason Heyward                OF    STL            14.75   3200.0$   \n",
      " 8. OF     A.J. Pollock                 OF    ARI            10.25   3700.0$   \n",
      " 9. UTIL   Josh Reddick                 OF    OAK            12.5    2400.0$   \n",
      "\n",
      "Fantasy Points 108.25\n",
      "Salary 36900.00\n",
      "\n",
      "[ Stephen Strasburg P (WAS),  Mike Olt 3B/1B (CHW),  Dee Gordon 2B (MIA),  Manny Machado 3B (BAL),  Marcus Semien SS (OAK),  Bryce Harper OF (WAS),  Jason Heyward OF (STL),  A.J. Pollock OF (ARI),  Josh Reddick OF (OAK)]\n",
      "108.25\n",
      "36900.0\n"
     ]
    }
   ],
   "source": [
    "rotoguru_rand_day = rotoguru[rotoguru['Date'] == rand_day]\n",
    "\n",
    "rotoguru_rand_day.loc[(rotoguru_rand_day['Pos'] == 'C') | (rotoguru_rand_day['Pos'] == '1B'), 'Pos'] = '1B/C'\n",
    "rotoguru_rand_day.loc[(rotoguru_rand_day['Pos'] == 'CF') | (rotoguru_rand_day['Pos'] == 'LF') | (rotoguru_rand_day['Pos'] == 'RF'), 'Pos'] = 'OF'\n",
    "rotoguru_rand_day.loc[rotoguru_rand_day['Pos'] == 'DH', 'Pos'] = 'UTIL'\n",
    "\n",
    "real_players = list(rotoguru_rand_day.apply(get_player_object_real, axis=1))\n",
    "\n",
    "optimizer.load_players(real_players)\n",
    "for lineup in optimizer.optimize(n=1):\n",
    "    print(lineup)\n",
    "    print(lineup.players)  # list of players\n",
    "    print(lineup.fantasy_points_projection)\n",
    "    print(lineup.salary_costs)"
   ]
  },
  {
   "cell_type": "markdown",
   "metadata": {},
   "source": [
    "This function will be used to create a pydfs Player object from every row of the prediction database"
   ]
  },
  {
   "cell_type": "code",
   "execution_count": 46,
   "metadata": {},
   "outputs": [],
   "source": [
    "def get_player_object(row):\n",
    "    #get the positions\n",
    "    pos_list = []\n",
    "    for pos in row['Pos'].split('-'):\n",
    "        pos_list.append(pos)\n",
    "        \n",
    "    p = Player(player_id = row['key_mlbam'], first_name = row['first_name'], last_name=row['last_name'], positions = pos_list,\n",
    "              team=row['Team'], salary=row['FD_salary'], fppg=row['fd_score'])\n",
    "    \n",
    "    return p\n",
    "\n",
    "def get_player_object_real(row):\n",
    "    #get the positions\n",
    "    pos_list = []\n",
    "    for pos in row['Pos'].split('-'):\n",
    "        pos_list.append(pos)\n",
    "        \n",
    "    p = Player(player_id = row['MLB_ID'], first_name = row['first_name'], last_name=row['last_name'], positions = pos_list,\n",
    "              team=row['Team'], salary=row['FD_salary'], fppg=row['FD_points'])\n",
    "    \n",
    "    return p"
   ]
  },
  {
   "cell_type": "code",
   "execution_count": null,
   "metadata": {},
   "outputs": [],
   "source": []
  }
 ],
 "metadata": {
  "kernelspec": {
   "display_name": "data-sci",
   "language": "python",
   "name": "data-sci"
  },
  "language_info": {
   "codemirror_mode": {
    "name": "ipython",
    "version": 3
   },
   "file_extension": ".py",
   "mimetype": "text/x-python",
   "name": "python",
   "nbconvert_exporter": "python",
   "pygments_lexer": "ipython3",
   "version": "3.6.8"
  }
 },
 "nbformat": 4,
 "nbformat_minor": 2
}
